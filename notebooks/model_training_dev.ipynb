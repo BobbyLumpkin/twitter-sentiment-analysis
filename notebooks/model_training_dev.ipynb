{
 "cells": [
  {
   "cell_type": "code",
   "execution_count": 1,
   "id": "ab2ae5ca-73f4-4f0b-a435-af36a7d7061d",
   "metadata": {},
   "outputs": [],
   "source": [
    "from IPython.display import display\n",
    "import itertools\n",
    "from lightgbm import LGBMClassifier\n",
    "import logging\n",
    "import numpy as np\n",
    "import pandas as pd\n",
    "from sklearn.ensemble import RandomForestClassifier, VotingClassifier\n",
    "from sklearn.linear_model import LogisticRegression\n",
    "from sklearn.model_selection import cross_val_score, GridSearchCV, train_test_split\n",
    "from sklearn.svm import SVC\n",
    "\n",
    "\n",
    "_logger = logging.getLogger(__name__)\n",
    "_logger.setLevel(logging.INFO)\n",
    "_formatter = logging.Formatter(\n",
    "    \"%(asctime)s:%(levelname)s:%(module)s: %(message)s\"\n",
    ")\n",
    "_console_handler = logging.StreamHandler()\n",
    "_console_handler.setFormatter(_formatter)\n",
    "_logger.addHandler(_console_handler)\n",
    "\n",
    "\n",
    "from birdwatcher.config import paths, secrets, training_config\n",
    "from birdwatcher.ml.PCAPlotIt import PCAPlotIt\n",
    "from birdwatcher.ml.utils import get_model_performance_metrics, gs_display_save_results, s3_load_pickle"
   ]
  },
  {
   "cell_type": "code",
   "execution_count": 2,
   "id": "fa27bf8a-9bd7-4ba5-99a3-0c8ecf7a4363",
   "metadata": {},
   "outputs": [
    {
     "data": {
      "text/html": [
       "<div>\n",
       "<style scoped>\n",
       "    .dataframe tbody tr th:only-of-type {\n",
       "        vertical-align: middle;\n",
       "    }\n",
       "\n",
       "    .dataframe tbody tr th {\n",
       "        vertical-align: top;\n",
       "    }\n",
       "\n",
       "    .dataframe thead th {\n",
       "        text-align: right;\n",
       "    }\n",
       "</style>\n",
       "<table border=\"1\" class=\"dataframe\">\n",
       "  <thead>\n",
       "    <tr style=\"text-align: right;\">\n",
       "      <th></th>\n",
       "      <th>target</th>\n",
       "      <th>01</th>\n",
       "      <th>026</th>\n",
       "      <th>04</th>\n",
       "      <th>0430</th>\n",
       "      <th>07</th>\n",
       "      <th>08</th>\n",
       "      <th>0809</th>\n",
       "      <th>0815</th>\n",
       "      <th>09</th>\n",
       "      <th>...</th>\n",
       "      <th>zoya</th>\n",
       "      <th>zune</th>\n",
       "      <th>zunehd</th>\n",
       "      <th>zurich</th>\n",
       "      <th>zushi</th>\n",
       "      <th>zwolle</th>\n",
       "      <th>zzz</th>\n",
       "      <th>zzzzz</th>\n",
       "      <th>zzzzzzzzlullaby</th>\n",
       "      <th>zzzzzzzzzzz</th>\n",
       "    </tr>\n",
       "  </thead>\n",
       "  <tbody>\n",
       "    <tr>\n",
       "      <th>0</th>\n",
       "      <td>1</td>\n",
       "      <td>0.0</td>\n",
       "      <td>0.0</td>\n",
       "      <td>0.0</td>\n",
       "      <td>0.0</td>\n",
       "      <td>0.0</td>\n",
       "      <td>0.0</td>\n",
       "      <td>0.0</td>\n",
       "      <td>0.0</td>\n",
       "      <td>0.0</td>\n",
       "      <td>...</td>\n",
       "      <td>0.0</td>\n",
       "      <td>0.0</td>\n",
       "      <td>0.0</td>\n",
       "      <td>0.0</td>\n",
       "      <td>0.0</td>\n",
       "      <td>0.0</td>\n",
       "      <td>0.0</td>\n",
       "      <td>0.0</td>\n",
       "      <td>0.0</td>\n",
       "      <td>0.0</td>\n",
       "    </tr>\n",
       "    <tr>\n",
       "      <th>1</th>\n",
       "      <td>1</td>\n",
       "      <td>0.0</td>\n",
       "      <td>0.0</td>\n",
       "      <td>0.0</td>\n",
       "      <td>0.0</td>\n",
       "      <td>0.0</td>\n",
       "      <td>0.0</td>\n",
       "      <td>0.0</td>\n",
       "      <td>0.0</td>\n",
       "      <td>0.0</td>\n",
       "      <td>...</td>\n",
       "      <td>0.0</td>\n",
       "      <td>0.0</td>\n",
       "      <td>0.0</td>\n",
       "      <td>0.0</td>\n",
       "      <td>0.0</td>\n",
       "      <td>0.0</td>\n",
       "      <td>0.0</td>\n",
       "      <td>0.0</td>\n",
       "      <td>0.0</td>\n",
       "      <td>0.0</td>\n",
       "    </tr>\n",
       "    <tr>\n",
       "      <th>2</th>\n",
       "      <td>1</td>\n",
       "      <td>0.0</td>\n",
       "      <td>0.0</td>\n",
       "      <td>0.0</td>\n",
       "      <td>0.0</td>\n",
       "      <td>0.0</td>\n",
       "      <td>0.0</td>\n",
       "      <td>0.0</td>\n",
       "      <td>0.0</td>\n",
       "      <td>0.0</td>\n",
       "      <td>...</td>\n",
       "      <td>0.0</td>\n",
       "      <td>0.0</td>\n",
       "      <td>0.0</td>\n",
       "      <td>0.0</td>\n",
       "      <td>0.0</td>\n",
       "      <td>0.0</td>\n",
       "      <td>0.0</td>\n",
       "      <td>0.0</td>\n",
       "      <td>0.0</td>\n",
       "      <td>0.0</td>\n",
       "    </tr>\n",
       "  </tbody>\n",
       "</table>\n",
       "<p>3 rows × 11192 columns</p>\n",
       "</div>"
      ],
      "text/plain": [
       "   target   01  026   04  0430   07   08  0809  0815   09  ...  zoya  zune  \\\n",
       "0       1  0.0  0.0  0.0   0.0  0.0  0.0   0.0   0.0  0.0  ...   0.0   0.0   \n",
       "1       1  0.0  0.0  0.0   0.0  0.0  0.0   0.0   0.0  0.0  ...   0.0   0.0   \n",
       "2       1  0.0  0.0  0.0   0.0  0.0  0.0   0.0   0.0  0.0  ...   0.0   0.0   \n",
       "\n",
       "   zunehd  zurich  zushi  zwolle  zzz  zzzzz  zzzzzzzzlullaby  zzzzzzzzzzz  \n",
       "0     0.0     0.0    0.0     0.0  0.0    0.0              0.0          0.0  \n",
       "1     0.0     0.0    0.0     0.0  0.0    0.0              0.0          0.0  \n",
       "2     0.0     0.0    0.0     0.0  0.0    0.0              0.0          0.0  \n",
       "\n",
       "[3 rows x 11192 columns]"
      ]
     },
     "execution_count": 2,
     "metadata": {},
     "output_type": "execute_result"
    }
   ],
   "source": [
    "# Load sentiment140 df_tfidf.\n",
    "sent140_tfidf = pd.read_parquet(paths.sentiment140_path_tfidf)\n",
    "sent140_tfidf.target = (sent140_tfidf.target / 4).astype(int)\n",
    "sent140_tfidf.head(3)"
   ]
  },
  {
   "cell_type": "code",
   "execution_count": 3,
   "id": "f5d4932a-c157-4449-abf9-acfd5f189f4d",
   "metadata": {},
   "outputs": [],
   "source": [
    "# Split the train/test data.\n",
    "y_cols = \"target\"\n",
    "x_cols = list(sent140_tfidf.columns)\n",
    "x_cols.remove(y_cols)\n",
    "x_tfidf = sent140_tfidf[x_cols]\n",
    "y_tfidf = sent140_tfidf[y_cols]\n",
    "x_train, x_test, y_train, y_test = train_test_split(\n",
    "    x_tfidf, \n",
    "    y_tfidf, \n",
    "    test_size = training_config.train_test_info[\"test_size\"],\n",
    "    random_state = training_config.train_test_info[\"random_state\"]\n",
    ")"
   ]
  },
  {
   "cell_type": "markdown",
   "id": "b5cab398-8bb5-44e4-9377-0d90ad20943d",
   "metadata": {},
   "source": [
    "# Logistic Regression"
   ]
  },
  {
   "cell_type": "code",
   "execution_count": 4,
   "id": "0aa2ed1b-78a5-463d-88d7-c99c58852fa1",
   "metadata": {},
   "outputs": [
    {
     "name": "stderr",
     "output_type": "stream",
     "text": [
      "2023-05-07 20:04:01,390:INFO:utils:--------------------COMPUTING TEST SET PERFORMANCE METRICS--------------------\n",
      "\n",
      "2023-05-07 20:04:01,395:INFO:utils:Accuracy: 0.7140549273021002\n",
      "2023-05-07 20:04:01,398:INFO:utils:ROC AUC: 0.7864443289617462\n",
      "2023-05-07 20:04:01,401:INFO:utils:Confusion matrix:\n",
      "[[638 296]\n",
      " [235 688]]\n",
      "2023-05-07 20:04:01,407:INFO:utils:\n",
      "              precision    recall  f1-score   support\n",
      "\n",
      "           0       0.73      0.68      0.71       934\n",
      "           1       0.70      0.75      0.72       923\n",
      "\n",
      "    accuracy                           0.71      1857\n",
      "   macro avg       0.72      0.71      0.71      1857\n",
      "weighted avg       0.72      0.71      0.71      1857\n",
      "\n",
      "2023-05-07 20:04:01,408:INFO:utils:--------------------COMPUTING CROSS-VALIDATED PERFORMANCE METRICS--------------------\n",
      "\n",
      "2023-05-07 20:04:20,260:INFO:utils:Cross-validated precision: 0.7092008050175773\n",
      "2023-05-07 20:04:36,972:INFO:utils:Cross-validated recall: 0.7575345849802371\n",
      "2023-05-07 20:04:53,371:INFO:utils:Cross-validated f1_macro: 0.7250578092591778\n",
      "2023-05-07 20:05:09,629:INFO:utils:Cross-validated roc_auc: 0.8022793692181477\n"
     ]
    }
   ],
   "source": [
    "# Build logistic regression classifier.\n",
    "logit_classifier = LogisticRegression(\n",
    "    random_state=0,\n",
    "    penalty=\"elasticnet\",\n",
    "    l1_ratio=0.5,\n",
    "    solver=\"saga\",\n",
    "    n_jobs=-1\n",
    ")\n",
    "logit_classifier.fit(x_train, y_train)\n",
    "\n",
    "get_model_performance_metrics(\n",
    "    clf=logit_classifier,\n",
    "    x_train=x_train,\n",
    "    y_train=y_train,\n",
    "    x_test=x_test,\n",
    "    y_test=y_test\n",
    ")"
   ]
  },
  {
   "cell_type": "code",
   "execution_count": 5,
   "id": "db035114-6f20-4705-a324-01f63337f3ee",
   "metadata": {},
   "outputs": [
    {
     "name": "stdout",
     "output_type": "stream",
     "text": [
      "Fitting 5 folds for each of 21 candidates, totalling 105 fits\n"
     ]
    },
    {
     "data": {
      "text/html": [
       "<style>#sk-container-id-1 {color: black;background-color: white;}#sk-container-id-1 pre{padding: 0;}#sk-container-id-1 div.sk-toggleable {background-color: white;}#sk-container-id-1 label.sk-toggleable__label {cursor: pointer;display: block;width: 100%;margin-bottom: 0;padding: 0.3em;box-sizing: border-box;text-align: center;}#sk-container-id-1 label.sk-toggleable__label-arrow:before {content: \"▸\";float: left;margin-right: 0.25em;color: #696969;}#sk-container-id-1 label.sk-toggleable__label-arrow:hover:before {color: black;}#sk-container-id-1 div.sk-estimator:hover label.sk-toggleable__label-arrow:before {color: black;}#sk-container-id-1 div.sk-toggleable__content {max-height: 0;max-width: 0;overflow: hidden;text-align: left;background-color: #f0f8ff;}#sk-container-id-1 div.sk-toggleable__content pre {margin: 0.2em;color: black;border-radius: 0.25em;background-color: #f0f8ff;}#sk-container-id-1 input.sk-toggleable__control:checked~div.sk-toggleable__content {max-height: 200px;max-width: 100%;overflow: auto;}#sk-container-id-1 input.sk-toggleable__control:checked~label.sk-toggleable__label-arrow:before {content: \"▾\";}#sk-container-id-1 div.sk-estimator input.sk-toggleable__control:checked~label.sk-toggleable__label {background-color: #d4ebff;}#sk-container-id-1 div.sk-label input.sk-toggleable__control:checked~label.sk-toggleable__label {background-color: #d4ebff;}#sk-container-id-1 input.sk-hidden--visually {border: 0;clip: rect(1px 1px 1px 1px);clip: rect(1px, 1px, 1px, 1px);height: 1px;margin: -1px;overflow: hidden;padding: 0;position: absolute;width: 1px;}#sk-container-id-1 div.sk-estimator {font-family: monospace;background-color: #f0f8ff;border: 1px dotted black;border-radius: 0.25em;box-sizing: border-box;margin-bottom: 0.5em;}#sk-container-id-1 div.sk-estimator:hover {background-color: #d4ebff;}#sk-container-id-1 div.sk-parallel-item::after {content: \"\";width: 100%;border-bottom: 1px solid gray;flex-grow: 1;}#sk-container-id-1 div.sk-label:hover label.sk-toggleable__label {background-color: #d4ebff;}#sk-container-id-1 div.sk-serial::before {content: \"\";position: absolute;border-left: 1px solid gray;box-sizing: border-box;top: 0;bottom: 0;left: 50%;z-index: 0;}#sk-container-id-1 div.sk-serial {display: flex;flex-direction: column;align-items: center;background-color: white;padding-right: 0.2em;padding-left: 0.2em;position: relative;}#sk-container-id-1 div.sk-item {position: relative;z-index: 1;}#sk-container-id-1 div.sk-parallel {display: flex;align-items: stretch;justify-content: center;background-color: white;position: relative;}#sk-container-id-1 div.sk-item::before, #sk-container-id-1 div.sk-parallel-item::before {content: \"\";position: absolute;border-left: 1px solid gray;box-sizing: border-box;top: 0;bottom: 0;left: 50%;z-index: -1;}#sk-container-id-1 div.sk-parallel-item {display: flex;flex-direction: column;z-index: 1;position: relative;background-color: white;}#sk-container-id-1 div.sk-parallel-item:first-child::after {align-self: flex-end;width: 50%;}#sk-container-id-1 div.sk-parallel-item:last-child::after {align-self: flex-start;width: 50%;}#sk-container-id-1 div.sk-parallel-item:only-child::after {width: 0;}#sk-container-id-1 div.sk-dashed-wrapped {border: 1px dashed gray;margin: 0 0.4em 0.5em 0.4em;box-sizing: border-box;padding-bottom: 0.4em;background-color: white;}#sk-container-id-1 div.sk-label label {font-family: monospace;font-weight: bold;display: inline-block;line-height: 1.2em;}#sk-container-id-1 div.sk-label-container {text-align: center;}#sk-container-id-1 div.sk-container {/* jupyter's `normalize.less` sets `[hidden] { display: none; }` but bootstrap.min.css set `[hidden] { display: none !important; }` so we also need the `!important` here to be able to override the default hidden behavior on the sphinx rendered scikit-learn.org. See: https://github.com/scikit-learn/scikit-learn/issues/21755 */display: inline-block !important;position: relative;}#sk-container-id-1 div.sk-text-repr-fallback {display: none;}</style><div id=\"sk-container-id-1\" class=\"sk-top-container\"><div class=\"sk-text-repr-fallback\"><pre>GridSearchCV(cv=5,\n",
       "             estimator=LogisticRegression(n_jobs=-1, penalty=&#x27;elasticnet&#x27;,\n",
       "                                          solver=&#x27;saga&#x27;),\n",
       "             n_jobs=-1,\n",
       "             param_grid={&#x27;l1_ratio&#x27;: [0.0, 0.05, 0.1, 0.15, 0.2, 0.25, 0.3,\n",
       "                                      0.35, 0.4, 0.45, 0.5, 0.55, 0.6, 0.65,\n",
       "                                      0.7, 0.75, 0.8, 0.85, 0.9, 0.95, 1.0]},\n",
       "             scoring=&#x27;f1_macro&#x27;, verbose=1)</pre><b>In a Jupyter environment, please rerun this cell to show the HTML representation or trust the notebook. <br />On GitHub, the HTML representation is unable to render, please try loading this page with nbviewer.org.</b></div><div class=\"sk-container\" hidden><div class=\"sk-item sk-dashed-wrapped\"><div class=\"sk-label-container\"><div class=\"sk-label sk-toggleable\"><input class=\"sk-toggleable__control sk-hidden--visually\" id=\"sk-estimator-id-1\" type=\"checkbox\" ><label for=\"sk-estimator-id-1\" class=\"sk-toggleable__label sk-toggleable__label-arrow\">GridSearchCV</label><div class=\"sk-toggleable__content\"><pre>GridSearchCV(cv=5,\n",
       "             estimator=LogisticRegression(n_jobs=-1, penalty=&#x27;elasticnet&#x27;,\n",
       "                                          solver=&#x27;saga&#x27;),\n",
       "             n_jobs=-1,\n",
       "             param_grid={&#x27;l1_ratio&#x27;: [0.0, 0.05, 0.1, 0.15, 0.2, 0.25, 0.3,\n",
       "                                      0.35, 0.4, 0.45, 0.5, 0.55, 0.6, 0.65,\n",
       "                                      0.7, 0.75, 0.8, 0.85, 0.9, 0.95, 1.0]},\n",
       "             scoring=&#x27;f1_macro&#x27;, verbose=1)</pre></div></div></div><div class=\"sk-parallel\"><div class=\"sk-parallel-item\"><div class=\"sk-item\"><div class=\"sk-label-container\"><div class=\"sk-label sk-toggleable\"><input class=\"sk-toggleable__control sk-hidden--visually\" id=\"sk-estimator-id-2\" type=\"checkbox\" ><label for=\"sk-estimator-id-2\" class=\"sk-toggleable__label sk-toggleable__label-arrow\">estimator: LogisticRegression</label><div class=\"sk-toggleable__content\"><pre>LogisticRegression(n_jobs=-1, penalty=&#x27;elasticnet&#x27;, solver=&#x27;saga&#x27;)</pre></div></div></div><div class=\"sk-serial\"><div class=\"sk-item\"><div class=\"sk-estimator sk-toggleable\"><input class=\"sk-toggleable__control sk-hidden--visually\" id=\"sk-estimator-id-3\" type=\"checkbox\" ><label for=\"sk-estimator-id-3\" class=\"sk-toggleable__label sk-toggleable__label-arrow\">LogisticRegression</label><div class=\"sk-toggleable__content\"><pre>LogisticRegression(n_jobs=-1, penalty=&#x27;elasticnet&#x27;, solver=&#x27;saga&#x27;)</pre></div></div></div></div></div></div></div></div></div></div>"
      ],
      "text/plain": [
       "GridSearchCV(cv=5,\n",
       "             estimator=LogisticRegression(n_jobs=-1, penalty='elasticnet',\n",
       "                                          solver='saga'),\n",
       "             n_jobs=-1,\n",
       "             param_grid={'l1_ratio': [0.0, 0.05, 0.1, 0.15, 0.2, 0.25, 0.3,\n",
       "                                      0.35, 0.4, 0.45, 0.5, 0.55, 0.6, 0.65,\n",
       "                                      0.7, 0.75, 0.8, 0.85, 0.9, 0.95, 1.0]},\n",
       "             scoring='f1_macro', verbose=1)"
      ]
     },
     "execution_count": 5,
     "metadata": {},
     "output_type": "execute_result"
    }
   ],
   "source": [
    "# Apply grid search to tune hyperparameters.\n",
    "l1_ratio_list = [(l1_ratio / 20) for l1_ratio in list(range(0, 21))]\n",
    "parameters_logit = {\"l1_ratio\" : l1_ratio_list}\n",
    "logit_final = GridSearchCV(\n",
    "    LogisticRegression(penalty=\"elasticnet\", solver=\"saga\", n_jobs=-1),\n",
    "    parameters_logit,\n",
    "    scoring=\"f1_macro\",\n",
    "    cv=5,\n",
    "    verbose=1,\n",
    "    n_jobs=-1\n",
    ")\n",
    "logit_final.fit(x_train, y_train)"
   ]
  },
  {
   "cell_type": "code",
   "execution_count": 6,
   "id": "89bcd564-af4a-4283-9856-f6f39beb9681",
   "metadata": {},
   "outputs": [
    {
     "data": {
      "text/html": [
       "<div>\n",
       "<style scoped>\n",
       "    .dataframe tbody tr th:only-of-type {\n",
       "        vertical-align: middle;\n",
       "    }\n",
       "\n",
       "    .dataframe tbody tr th {\n",
       "        vertical-align: top;\n",
       "    }\n",
       "\n",
       "    .dataframe thead th {\n",
       "        text-align: right;\n",
       "    }\n",
       "</style>\n",
       "<table border=\"1\" class=\"dataframe\">\n",
       "  <thead>\n",
       "    <tr style=\"text-align: right;\">\n",
       "      <th></th>\n",
       "      <th>Params</th>\n",
       "      <th>Mean out-of-bag F1</th>\n",
       "    </tr>\n",
       "  </thead>\n",
       "  <tbody>\n",
       "    <tr>\n",
       "      <th>0</th>\n",
       "      <td>{'l1_ratio': 0.0}</td>\n",
       "      <td>0.729058</td>\n",
       "    </tr>\n",
       "    <tr>\n",
       "      <th>1</th>\n",
       "      <td>{'l1_ratio': 0.05}</td>\n",
       "      <td>0.727427</td>\n",
       "    </tr>\n",
       "    <tr>\n",
       "      <th>2</th>\n",
       "      <td>{'l1_ratio': 0.1}</td>\n",
       "      <td>0.727825</td>\n",
       "    </tr>\n",
       "    <tr>\n",
       "      <th>3</th>\n",
       "      <td>{'l1_ratio': 0.15}</td>\n",
       "      <td>0.729292</td>\n",
       "    </tr>\n",
       "    <tr>\n",
       "      <th>4</th>\n",
       "      <td>{'l1_ratio': 0.2}</td>\n",
       "      <td>0.728596</td>\n",
       "    </tr>\n",
       "  </tbody>\n",
       "</table>\n",
       "</div>"
      ],
      "text/plain": [
       "               Params  Mean out-of-bag F1\n",
       "0   {'l1_ratio': 0.0}            0.729058\n",
       "1  {'l1_ratio': 0.05}            0.727427\n",
       "2   {'l1_ratio': 0.1}            0.727825\n",
       "3  {'l1_ratio': 0.15}            0.729292\n",
       "4   {'l1_ratio': 0.2}            0.728596"
      ]
     },
     "metadata": {},
     "output_type": "display_data"
    },
    {
     "data": {
      "text/html": [
       "<div>\n",
       "<style scoped>\n",
       "    .dataframe tbody tr th:only-of-type {\n",
       "        vertical-align: middle;\n",
       "    }\n",
       "\n",
       "    .dataframe tbody tr th {\n",
       "        vertical-align: top;\n",
       "    }\n",
       "\n",
       "    .dataframe thead th {\n",
       "        text-align: right;\n",
       "    }\n",
       "</style>\n",
       "<table border=\"1\" class=\"dataframe\">\n",
       "  <thead>\n",
       "    <tr style=\"text-align: right;\">\n",
       "      <th></th>\n",
       "      <th>Params</th>\n",
       "      <th>Mean out-of-bag F1</th>\n",
       "    </tr>\n",
       "  </thead>\n",
       "  <tbody>\n",
       "    <tr>\n",
       "      <th>16</th>\n",
       "      <td>{'l1_ratio': 0.8}</td>\n",
       "      <td>0.723321</td>\n",
       "    </tr>\n",
       "    <tr>\n",
       "      <th>17</th>\n",
       "      <td>{'l1_ratio': 0.85}</td>\n",
       "      <td>0.722322</td>\n",
       "    </tr>\n",
       "    <tr>\n",
       "      <th>18</th>\n",
       "      <td>{'l1_ratio': 0.9}</td>\n",
       "      <td>0.721869</td>\n",
       "    </tr>\n",
       "    <tr>\n",
       "      <th>19</th>\n",
       "      <td>{'l1_ratio': 0.95}</td>\n",
       "      <td>0.720852</td>\n",
       "    </tr>\n",
       "    <tr>\n",
       "      <th>20</th>\n",
       "      <td>{'l1_ratio': 1.0}</td>\n",
       "      <td>0.719523</td>\n",
       "    </tr>\n",
       "  </tbody>\n",
       "</table>\n",
       "</div>"
      ],
      "text/plain": [
       "                Params  Mean out-of-bag F1\n",
       "16   {'l1_ratio': 0.8}            0.723321\n",
       "17  {'l1_ratio': 0.85}            0.722322\n",
       "18   {'l1_ratio': 0.9}            0.721869\n",
       "19  {'l1_ratio': 0.95}            0.720852\n",
       "20   {'l1_ratio': 1.0}            0.719523"
      ]
     },
     "metadata": {},
     "output_type": "display_data"
    },
    {
     "name": "stderr",
     "output_type": "stream",
     "text": [
      "2023-05-07 20:06:15,239:INFO:utils:Best parameters: {'l1_ratio': 0.25}. Best mean out-of-bag F1: 0.7296721036445458\n"
     ]
    }
   ],
   "source": [
    "# Get and display best results.\n",
    "best_parameters_gs = gs_display_save_results(\n",
    "    gscv_fit=logit_final, \n",
    "    file_prefix=\"logreg\", \n",
    "    save=True\n",
    ")\n",
    "best_model = logit_final.best_estimator_"
   ]
  },
  {
   "cell_type": "code",
   "execution_count": 7,
   "id": "987bee1c-ac1b-4c40-88a1-de8111549841",
   "metadata": {},
   "outputs": [
    {
     "name": "stderr",
     "output_type": "stream",
     "text": [
      "2023-05-07 20:06:15,540:INFO:utils:--------------------COMPUTING TEST SET PERFORMANCE METRICS--------------------\n",
      "\n",
      "2023-05-07 20:06:15,542:INFO:utils:Accuracy: 0.7135164243403339\n",
      "2023-05-07 20:06:15,545:INFO:utils:ROC AUC: 0.7901922322934478\n",
      "2023-05-07 20:06:15,548:INFO:utils:Confusion matrix:\n",
      "[[652 282]\n",
      " [250 673]]\n",
      "2023-05-07 20:06:15,554:INFO:utils:\n",
      "              precision    recall  f1-score   support\n",
      "\n",
      "           0       0.72      0.70      0.71       934\n",
      "           1       0.70      0.73      0.72       923\n",
      "\n",
      "    accuracy                           0.71      1857\n",
      "   macro avg       0.71      0.71      0.71      1857\n",
      "weighted avg       0.71      0.71      0.71      1857\n",
      "\n",
      "2023-05-07 20:06:15,560:INFO:utils:--------------------COMPUTING CROSS-VALIDATED PERFORMANCE METRICS--------------------\n",
      "\n",
      "2023-05-07 20:06:37,516:INFO:utils:Cross-validated precision: 0.7181219871007907\n",
      "2023-05-07 20:06:57,844:INFO:utils:Cross-validated recall: 0.7499314199752227\n",
      "2023-05-07 20:07:18,899:INFO:utils:Cross-validated f1_macro: 0.7296721036445458\n",
      "2023-05-07 20:07:40,902:INFO:utils:Cross-validated roc_auc: 0.8042221223779465\n"
     ]
    }
   ],
   "source": [
    "get_model_performance_metrics(\n",
    "    clf=best_model,\n",
    "    x_train=x_train,\n",
    "    y_train=y_train,\n",
    "    x_test=x_test,\n",
    "    y_test=y_test\n",
    ")"
   ]
  },
  {
   "cell_type": "markdown",
   "id": "77c9a6bf-4601-4085-801e-34bfe782ef46",
   "metadata": {},
   "source": [
    "# Random Forest"
   ]
  },
  {
   "cell_type": "code",
   "execution_count": 8,
   "id": "ca8d8aa9-930b-4f0c-91b2-665444a9e537",
   "metadata": {},
   "outputs": [
    {
     "name": "stderr",
     "output_type": "stream",
     "text": [
      "2023-05-07 20:08:06,369:INFO:utils:--------------------COMPUTING TEST SET PERFORMANCE METRICS--------------------\n",
      "\n",
      "2023-05-07 20:08:06,371:INFO:utils:Accuracy: 0.69520732364028\n",
      "2023-05-07 20:08:06,374:INFO:utils:ROC AUC: 0.7689367136768892\n",
      "2023-05-07 20:08:06,375:INFO:utils:Confusion matrix:\n",
      "[[595 339]\n",
      " [227 696]]\n",
      "2023-05-07 20:08:06,380:INFO:utils:\n",
      "              precision    recall  f1-score   support\n",
      "\n",
      "           0       0.72      0.64      0.68       934\n",
      "           1       0.67      0.75      0.71       923\n",
      "\n",
      "    accuracy                           0.70      1857\n",
      "   macro avg       0.70      0.70      0.69      1857\n",
      "weighted avg       0.70      0.70      0.69      1857\n",
      "\n",
      "2023-05-07 20:08:06,381:INFO:utils:--------------------COMPUTING CROSS-VALIDATED PERFORMANCE METRICS--------------------\n",
      "\n",
      "2023-05-07 20:08:26,376:INFO:utils:Cross-validated precision: 0.6883869129148077\n",
      "2023-05-07 20:08:45,155:INFO:utils:Cross-validated recall: 0.7640471063654062\n",
      "2023-05-07 20:09:03,651:INFO:utils:Cross-validated f1_macro: 0.710515780939265\n",
      "2023-05-07 20:09:22,725:INFO:utils:Cross-validated roc_auc: 0.784340362199252\n"
     ]
    }
   ],
   "source": [
    "# Instantiate, fit and evaluate a random forest classifier.\n",
    "rf_classifier = RandomForestClassifier(\n",
    "    n_estimators=100,\n",
    "    criterion='gini',\n",
    "    random_state=123\n",
    ")\n",
    "rf_classifier.fit(x_train, y_train)\n",
    "\n",
    "get_model_performance_metrics(\n",
    "    clf=rf_classifier,\n",
    "    x_train=x_train,\n",
    "    y_train=y_train,\n",
    "    x_test=x_test,\n",
    "    y_test=y_test\n",
    ")"
   ]
  },
  {
   "cell_type": "code",
   "execution_count": 9,
   "id": "1b098fd9-2b7b-4a8e-abf4-8285720ee1f1",
   "metadata": {},
   "outputs": [
    {
     "name": "stdout",
     "output_type": "stream",
     "text": [
      "Fitting 5 folds for each of 39 candidates, totalling 195 fits\n"
     ]
    },
    {
     "data": {
      "text/html": [
       "<style>#sk-container-id-2 {color: black;background-color: white;}#sk-container-id-2 pre{padding: 0;}#sk-container-id-2 div.sk-toggleable {background-color: white;}#sk-container-id-2 label.sk-toggleable__label {cursor: pointer;display: block;width: 100%;margin-bottom: 0;padding: 0.3em;box-sizing: border-box;text-align: center;}#sk-container-id-2 label.sk-toggleable__label-arrow:before {content: \"▸\";float: left;margin-right: 0.25em;color: #696969;}#sk-container-id-2 label.sk-toggleable__label-arrow:hover:before {color: black;}#sk-container-id-2 div.sk-estimator:hover label.sk-toggleable__label-arrow:before {color: black;}#sk-container-id-2 div.sk-toggleable__content {max-height: 0;max-width: 0;overflow: hidden;text-align: left;background-color: #f0f8ff;}#sk-container-id-2 div.sk-toggleable__content pre {margin: 0.2em;color: black;border-radius: 0.25em;background-color: #f0f8ff;}#sk-container-id-2 input.sk-toggleable__control:checked~div.sk-toggleable__content {max-height: 200px;max-width: 100%;overflow: auto;}#sk-container-id-2 input.sk-toggleable__control:checked~label.sk-toggleable__label-arrow:before {content: \"▾\";}#sk-container-id-2 div.sk-estimator input.sk-toggleable__control:checked~label.sk-toggleable__label {background-color: #d4ebff;}#sk-container-id-2 div.sk-label input.sk-toggleable__control:checked~label.sk-toggleable__label {background-color: #d4ebff;}#sk-container-id-2 input.sk-hidden--visually {border: 0;clip: rect(1px 1px 1px 1px);clip: rect(1px, 1px, 1px, 1px);height: 1px;margin: -1px;overflow: hidden;padding: 0;position: absolute;width: 1px;}#sk-container-id-2 div.sk-estimator {font-family: monospace;background-color: #f0f8ff;border: 1px dotted black;border-radius: 0.25em;box-sizing: border-box;margin-bottom: 0.5em;}#sk-container-id-2 div.sk-estimator:hover {background-color: #d4ebff;}#sk-container-id-2 div.sk-parallel-item::after {content: \"\";width: 100%;border-bottom: 1px solid gray;flex-grow: 1;}#sk-container-id-2 div.sk-label:hover label.sk-toggleable__label {background-color: #d4ebff;}#sk-container-id-2 div.sk-serial::before {content: \"\";position: absolute;border-left: 1px solid gray;box-sizing: border-box;top: 0;bottom: 0;left: 50%;z-index: 0;}#sk-container-id-2 div.sk-serial {display: flex;flex-direction: column;align-items: center;background-color: white;padding-right: 0.2em;padding-left: 0.2em;position: relative;}#sk-container-id-2 div.sk-item {position: relative;z-index: 1;}#sk-container-id-2 div.sk-parallel {display: flex;align-items: stretch;justify-content: center;background-color: white;position: relative;}#sk-container-id-2 div.sk-item::before, #sk-container-id-2 div.sk-parallel-item::before {content: \"\";position: absolute;border-left: 1px solid gray;box-sizing: border-box;top: 0;bottom: 0;left: 50%;z-index: -1;}#sk-container-id-2 div.sk-parallel-item {display: flex;flex-direction: column;z-index: 1;position: relative;background-color: white;}#sk-container-id-2 div.sk-parallel-item:first-child::after {align-self: flex-end;width: 50%;}#sk-container-id-2 div.sk-parallel-item:last-child::after {align-self: flex-start;width: 50%;}#sk-container-id-2 div.sk-parallel-item:only-child::after {width: 0;}#sk-container-id-2 div.sk-dashed-wrapped {border: 1px dashed gray;margin: 0 0.4em 0.5em 0.4em;box-sizing: border-box;padding-bottom: 0.4em;background-color: white;}#sk-container-id-2 div.sk-label label {font-family: monospace;font-weight: bold;display: inline-block;line-height: 1.2em;}#sk-container-id-2 div.sk-label-container {text-align: center;}#sk-container-id-2 div.sk-container {/* jupyter's `normalize.less` sets `[hidden] { display: none; }` but bootstrap.min.css set `[hidden] { display: none !important; }` so we also need the `!important` here to be able to override the default hidden behavior on the sphinx rendered scikit-learn.org. See: https://github.com/scikit-learn/scikit-learn/issues/21755 */display: inline-block !important;position: relative;}#sk-container-id-2 div.sk-text-repr-fallback {display: none;}</style><div id=\"sk-container-id-2\" class=\"sk-top-container\"><div class=\"sk-text-repr-fallback\"><pre>GridSearchCV(cv=5, estimator=RandomForestClassifier(), n_jobs=-1,\n",
       "             param_grid={&#x27;n_estimators&#x27;: [5, 10, 15, 20, 25, 30, 35, 40, 45, 50,\n",
       "                                          55, 60, 65, 70, 75, 80, 85, 90, 95,\n",
       "                                          100, 105, 110, 115, 120, 125, 130,\n",
       "                                          135, 140, 145, 150, ...]},\n",
       "             scoring=&#x27;f1_macro&#x27;, verbose=1)</pre><b>In a Jupyter environment, please rerun this cell to show the HTML representation or trust the notebook. <br />On GitHub, the HTML representation is unable to render, please try loading this page with nbviewer.org.</b></div><div class=\"sk-container\" hidden><div class=\"sk-item sk-dashed-wrapped\"><div class=\"sk-label-container\"><div class=\"sk-label sk-toggleable\"><input class=\"sk-toggleable__control sk-hidden--visually\" id=\"sk-estimator-id-4\" type=\"checkbox\" ><label for=\"sk-estimator-id-4\" class=\"sk-toggleable__label sk-toggleable__label-arrow\">GridSearchCV</label><div class=\"sk-toggleable__content\"><pre>GridSearchCV(cv=5, estimator=RandomForestClassifier(), n_jobs=-1,\n",
       "             param_grid={&#x27;n_estimators&#x27;: [5, 10, 15, 20, 25, 30, 35, 40, 45, 50,\n",
       "                                          55, 60, 65, 70, 75, 80, 85, 90, 95,\n",
       "                                          100, 105, 110, 115, 120, 125, 130,\n",
       "                                          135, 140, 145, 150, ...]},\n",
       "             scoring=&#x27;f1_macro&#x27;, verbose=1)</pre></div></div></div><div class=\"sk-parallel\"><div class=\"sk-parallel-item\"><div class=\"sk-item\"><div class=\"sk-label-container\"><div class=\"sk-label sk-toggleable\"><input class=\"sk-toggleable__control sk-hidden--visually\" id=\"sk-estimator-id-5\" type=\"checkbox\" ><label for=\"sk-estimator-id-5\" class=\"sk-toggleable__label sk-toggleable__label-arrow\">estimator: RandomForestClassifier</label><div class=\"sk-toggleable__content\"><pre>RandomForestClassifier()</pre></div></div></div><div class=\"sk-serial\"><div class=\"sk-item\"><div class=\"sk-estimator sk-toggleable\"><input class=\"sk-toggleable__control sk-hidden--visually\" id=\"sk-estimator-id-6\" type=\"checkbox\" ><label for=\"sk-estimator-id-6\" class=\"sk-toggleable__label sk-toggleable__label-arrow\">RandomForestClassifier</label><div class=\"sk-toggleable__content\"><pre>RandomForestClassifier()</pre></div></div></div></div></div></div></div></div></div></div>"
      ],
      "text/plain": [
       "GridSearchCV(cv=5, estimator=RandomForestClassifier(), n_jobs=-1,\n",
       "             param_grid={'n_estimators': [5, 10, 15, 20, 25, 30, 35, 40, 45, 50,\n",
       "                                          55, 60, 65, 70, 75, 80, 85, 90, 95,\n",
       "                                          100, 105, 110, 115, 120, 125, 130,\n",
       "                                          135, 140, 145, 150, ...]},\n",
       "             scoring='f1_macro', verbose=1)"
      ]
     },
     "execution_count": 9,
     "metadata": {},
     "output_type": "execute_result"
    }
   ],
   "source": [
    "# Apply grid search to tune hyperparameters.\n",
    "n_estimators_list = list(range(0, 200, 5))\n",
    "n_estimators_list.remove(0)\n",
    "parameters_rf = {\"n_estimators\" : n_estimators_list}\n",
    "rf_final = GridSearchCV(\n",
    "    RandomForestClassifier(),\n",
    "    parameters_rf,\n",
    "    scoring=\"f1_macro\",\n",
    "    cv=5,\n",
    "    verbose=1,\n",
    "    n_jobs=-1\n",
    ")\n",
    "rf_final.fit(x_train, y_train)"
   ]
  },
  {
   "cell_type": "code",
   "execution_count": 10,
   "id": "282d5f60-c70f-4bf7-8dec-9c0341025e8a",
   "metadata": {},
   "outputs": [
    {
     "data": {
      "text/html": [
       "<div>\n",
       "<style scoped>\n",
       "    .dataframe tbody tr th:only-of-type {\n",
       "        vertical-align: middle;\n",
       "    }\n",
       "\n",
       "    .dataframe tbody tr th {\n",
       "        vertical-align: top;\n",
       "    }\n",
       "\n",
       "    .dataframe thead th {\n",
       "        text-align: right;\n",
       "    }\n",
       "</style>\n",
       "<table border=\"1\" class=\"dataframe\">\n",
       "  <thead>\n",
       "    <tr style=\"text-align: right;\">\n",
       "      <th></th>\n",
       "      <th>Params</th>\n",
       "      <th>Mean out-of-bag F1</th>\n",
       "    </tr>\n",
       "  </thead>\n",
       "  <tbody>\n",
       "    <tr>\n",
       "      <th>0</th>\n",
       "      <td>{'n_estimators': 5}</td>\n",
       "      <td>0.668391</td>\n",
       "    </tr>\n",
       "    <tr>\n",
       "      <th>1</th>\n",
       "      <td>{'n_estimators': 10}</td>\n",
       "      <td>0.693863</td>\n",
       "    </tr>\n",
       "    <tr>\n",
       "      <th>2</th>\n",
       "      <td>{'n_estimators': 15}</td>\n",
       "      <td>0.696678</td>\n",
       "    </tr>\n",
       "    <tr>\n",
       "      <th>3</th>\n",
       "      <td>{'n_estimators': 20}</td>\n",
       "      <td>0.706606</td>\n",
       "    </tr>\n",
       "    <tr>\n",
       "      <th>4</th>\n",
       "      <td>{'n_estimators': 25}</td>\n",
       "      <td>0.703542</td>\n",
       "    </tr>\n",
       "  </tbody>\n",
       "</table>\n",
       "</div>"
      ],
      "text/plain": [
       "                 Params  Mean out-of-bag F1\n",
       "0   {'n_estimators': 5}            0.668391\n",
       "1  {'n_estimators': 10}            0.693863\n",
       "2  {'n_estimators': 15}            0.696678\n",
       "3  {'n_estimators': 20}            0.706606\n",
       "4  {'n_estimators': 25}            0.703542"
      ]
     },
     "metadata": {},
     "output_type": "display_data"
    },
    {
     "data": {
      "text/html": [
       "<div>\n",
       "<style scoped>\n",
       "    .dataframe tbody tr th:only-of-type {\n",
       "        vertical-align: middle;\n",
       "    }\n",
       "\n",
       "    .dataframe tbody tr th {\n",
       "        vertical-align: top;\n",
       "    }\n",
       "\n",
       "    .dataframe thead th {\n",
       "        text-align: right;\n",
       "    }\n",
       "</style>\n",
       "<table border=\"1\" class=\"dataframe\">\n",
       "  <thead>\n",
       "    <tr style=\"text-align: right;\">\n",
       "      <th></th>\n",
       "      <th>Params</th>\n",
       "      <th>Mean out-of-bag F1</th>\n",
       "    </tr>\n",
       "  </thead>\n",
       "  <tbody>\n",
       "    <tr>\n",
       "      <th>34</th>\n",
       "      <td>{'n_estimators': 175}</td>\n",
       "      <td>0.714374</td>\n",
       "    </tr>\n",
       "    <tr>\n",
       "      <th>35</th>\n",
       "      <td>{'n_estimators': 180}</td>\n",
       "      <td>0.714745</td>\n",
       "    </tr>\n",
       "    <tr>\n",
       "      <th>36</th>\n",
       "      <td>{'n_estimators': 185}</td>\n",
       "      <td>0.714209</td>\n",
       "    </tr>\n",
       "    <tr>\n",
       "      <th>37</th>\n",
       "      <td>{'n_estimators': 190}</td>\n",
       "      <td>0.712266</td>\n",
       "    </tr>\n",
       "    <tr>\n",
       "      <th>38</th>\n",
       "      <td>{'n_estimators': 195}</td>\n",
       "      <td>0.714349</td>\n",
       "    </tr>\n",
       "  </tbody>\n",
       "</table>\n",
       "</div>"
      ],
      "text/plain": [
       "                   Params  Mean out-of-bag F1\n",
       "34  {'n_estimators': 175}            0.714374\n",
       "35  {'n_estimators': 180}            0.714745\n",
       "36  {'n_estimators': 185}            0.714209\n",
       "37  {'n_estimators': 190}            0.712266\n",
       "38  {'n_estimators': 195}            0.714349"
      ]
     },
     "metadata": {},
     "output_type": "display_data"
    },
    {
     "name": "stderr",
     "output_type": "stream",
     "text": [
      "2023-05-07 20:11:23,622:INFO:utils:Best parameters: {'n_estimators': 160}. Best mean out-of-bag F1: 0.7161684443865152\n"
     ]
    }
   ],
   "source": [
    "# Get and display best results.\n",
    "best_parameters_gs = gs_display_save_results(\n",
    "    gscv_fit=rf_final, \n",
    "    file_prefix=\"rf\", \n",
    "    save=True\n",
    ")"
   ]
  },
  {
   "cell_type": "code",
   "execution_count": 11,
   "id": "99066138-9b14-459a-a488-a07114f64960",
   "metadata": {},
   "outputs": [
    {
     "name": "stderr",
     "output_type": "stream",
     "text": [
      "2023-05-07 20:11:24,763:INFO:utils:--------------------COMPUTING TEST SET PERFORMANCE METRICS--------------------\n",
      "\n",
      "2023-05-07 20:11:24,765:INFO:utils:Accuracy: 0.7054388799138396\n",
      "2023-05-07 20:11:24,767:INFO:utils:ROC AUC: 0.7704580306745763\n",
      "2023-05-07 20:11:24,768:INFO:utils:Confusion matrix:\n",
      "[[596 338]\n",
      " [209 714]]\n",
      "2023-05-07 20:11:24,774:INFO:utils:\n",
      "              precision    recall  f1-score   support\n",
      "\n",
      "           0       0.74      0.64      0.69       934\n",
      "           1       0.68      0.77      0.72       923\n",
      "\n",
      "    accuracy                           0.71      1857\n",
      "   macro avg       0.71      0.71      0.70      1857\n",
      "weighted avg       0.71      0.71      0.70      1857\n",
      "\n",
      "2023-05-07 20:11:24,774:INFO:utils:--------------------COMPUTING CROSS-VALIDATED PERFORMANCE METRICS--------------------\n",
      "\n",
      "2023-05-07 20:11:54,734:INFO:utils:Cross-validated precision: 0.6884909137274768\n",
      "2023-05-07 20:12:24,308:INFO:utils:Cross-validated recall: 0.7678488732228187\n",
      "2023-05-07 20:12:54,455:INFO:utils:Cross-validated f1_macro: 0.7140769144562311\n",
      "2023-05-07 20:13:37,724:INFO:utils:Cross-validated roc_auc: 0.7887614163190391\n"
     ]
    }
   ],
   "source": [
    "# Evaluate best model.\n",
    "best_model = rf_final.best_estimator_\n",
    "get_model_performance_metrics(\n",
    "    clf=best_model,\n",
    "    x_train=x_train,\n",
    "    y_train=y_train,\n",
    "    x_test=x_test,\n",
    "    y_test=y_test\n",
    ")"
   ]
  },
  {
   "cell_type": "markdown",
   "id": "25dab68c-3959-4cd4-80d1-1d8fdb8c50d0",
   "metadata": {},
   "source": [
    "# Gradient Boosted Tree"
   ]
  },
  {
   "cell_type": "code",
   "execution_count": 12,
   "id": "5aa38053-5cfa-4eb5-9481-926106e25da6",
   "metadata": {},
   "outputs": [
    {
     "name": "stderr",
     "output_type": "stream",
     "text": [
      "2023-05-07 20:13:40,553:INFO:utils:--------------------COMPUTING TEST SET PERFORMANCE METRICS--------------------\n",
      "\n",
      "2023-05-07 20:13:40,555:INFO:utils:Accuracy: 0.6467420570813139\n",
      "2023-05-07 20:13:40,557:INFO:utils:ROC AUC: 0.6912439883908954\n",
      "2023-05-07 20:13:40,559:INFO:utils:Confusion matrix:\n",
      "[[401 533]\n",
      " [123 800]]\n",
      "2023-05-07 20:13:40,564:INFO:utils:\n",
      "              precision    recall  f1-score   support\n",
      "\n",
      "           0       0.77      0.43      0.55       934\n",
      "           1       0.60      0.87      0.71       923\n",
      "\n",
      "    accuracy                           0.65      1857\n",
      "   macro avg       0.68      0.65      0.63      1857\n",
      "weighted avg       0.68      0.65      0.63      1857\n",
      "\n",
      "2023-05-07 20:13:40,565:INFO:utils:--------------------COMPUTING CROSS-VALIDATED PERFORMANCE METRICS--------------------\n",
      "\n",
      "2023-05-07 20:13:41,939:INFO:utils:Cross-validated precision: 0.6063675317348334\n",
      "2023-05-07 20:13:43,343:INFO:utils:Cross-validated recall: 0.8596214825084066\n",
      "2023-05-07 20:13:44,790:INFO:utils:Cross-validated f1_macro: 0.6392564732976884\n",
      "2023-05-07 20:13:46,179:INFO:utils:Cross-validated roc_auc: 0.7102208417193074\n"
     ]
    }
   ],
   "source": [
    "# Instantiate, fit and evaluate lgbm classifier.\n",
    "params = {\n",
    "    \"boosting_type\":\"gbdt\", \n",
    "    \"num_leaves\":5, \n",
    "    \"learning_rate\":0.01, \n",
    "    \"n_estimators\":250\n",
    "}\n",
    "lgbm_classifier = LGBMClassifier(**params)\n",
    "lgbm_classifier.fit(x_train, y_train)\n",
    "\n",
    "get_model_performance_metrics(\n",
    "    clf=lgbm_classifier,\n",
    "    x_train=x_train,\n",
    "    y_train=y_train,\n",
    "    x_test=x_test,\n",
    "    y_test=y_test\n",
    ")"
   ]
  },
  {
   "cell_type": "code",
   "execution_count": 13,
   "id": "e07d1b62-a346-43de-92d6-18fb16b62dde",
   "metadata": {},
   "outputs": [
    {
     "name": "stdout",
     "output_type": "stream",
     "text": [
      "Fitting 5 folds for each of 48 candidates, totalling 240 fits\n"
     ]
    },
    {
     "data": {
      "text/html": [
       "<style>#sk-container-id-3 {color: black;background-color: white;}#sk-container-id-3 pre{padding: 0;}#sk-container-id-3 div.sk-toggleable {background-color: white;}#sk-container-id-3 label.sk-toggleable__label {cursor: pointer;display: block;width: 100%;margin-bottom: 0;padding: 0.3em;box-sizing: border-box;text-align: center;}#sk-container-id-3 label.sk-toggleable__label-arrow:before {content: \"▸\";float: left;margin-right: 0.25em;color: #696969;}#sk-container-id-3 label.sk-toggleable__label-arrow:hover:before {color: black;}#sk-container-id-3 div.sk-estimator:hover label.sk-toggleable__label-arrow:before {color: black;}#sk-container-id-3 div.sk-toggleable__content {max-height: 0;max-width: 0;overflow: hidden;text-align: left;background-color: #f0f8ff;}#sk-container-id-3 div.sk-toggleable__content pre {margin: 0.2em;color: black;border-radius: 0.25em;background-color: #f0f8ff;}#sk-container-id-3 input.sk-toggleable__control:checked~div.sk-toggleable__content {max-height: 200px;max-width: 100%;overflow: auto;}#sk-container-id-3 input.sk-toggleable__control:checked~label.sk-toggleable__label-arrow:before {content: \"▾\";}#sk-container-id-3 div.sk-estimator input.sk-toggleable__control:checked~label.sk-toggleable__label {background-color: #d4ebff;}#sk-container-id-3 div.sk-label input.sk-toggleable__control:checked~label.sk-toggleable__label {background-color: #d4ebff;}#sk-container-id-3 input.sk-hidden--visually {border: 0;clip: rect(1px 1px 1px 1px);clip: rect(1px, 1px, 1px, 1px);height: 1px;margin: -1px;overflow: hidden;padding: 0;position: absolute;width: 1px;}#sk-container-id-3 div.sk-estimator {font-family: monospace;background-color: #f0f8ff;border: 1px dotted black;border-radius: 0.25em;box-sizing: border-box;margin-bottom: 0.5em;}#sk-container-id-3 div.sk-estimator:hover {background-color: #d4ebff;}#sk-container-id-3 div.sk-parallel-item::after {content: \"\";width: 100%;border-bottom: 1px solid gray;flex-grow: 1;}#sk-container-id-3 div.sk-label:hover label.sk-toggleable__label {background-color: #d4ebff;}#sk-container-id-3 div.sk-serial::before {content: \"\";position: absolute;border-left: 1px solid gray;box-sizing: border-box;top: 0;bottom: 0;left: 50%;z-index: 0;}#sk-container-id-3 div.sk-serial {display: flex;flex-direction: column;align-items: center;background-color: white;padding-right: 0.2em;padding-left: 0.2em;position: relative;}#sk-container-id-3 div.sk-item {position: relative;z-index: 1;}#sk-container-id-3 div.sk-parallel {display: flex;align-items: stretch;justify-content: center;background-color: white;position: relative;}#sk-container-id-3 div.sk-item::before, #sk-container-id-3 div.sk-parallel-item::before {content: \"\";position: absolute;border-left: 1px solid gray;box-sizing: border-box;top: 0;bottom: 0;left: 50%;z-index: -1;}#sk-container-id-3 div.sk-parallel-item {display: flex;flex-direction: column;z-index: 1;position: relative;background-color: white;}#sk-container-id-3 div.sk-parallel-item:first-child::after {align-self: flex-end;width: 50%;}#sk-container-id-3 div.sk-parallel-item:last-child::after {align-self: flex-start;width: 50%;}#sk-container-id-3 div.sk-parallel-item:only-child::after {width: 0;}#sk-container-id-3 div.sk-dashed-wrapped {border: 1px dashed gray;margin: 0 0.4em 0.5em 0.4em;box-sizing: border-box;padding-bottom: 0.4em;background-color: white;}#sk-container-id-3 div.sk-label label {font-family: monospace;font-weight: bold;display: inline-block;line-height: 1.2em;}#sk-container-id-3 div.sk-label-container {text-align: center;}#sk-container-id-3 div.sk-container {/* jupyter's `normalize.less` sets `[hidden] { display: none; }` but bootstrap.min.css set `[hidden] { display: none !important; }` so we also need the `!important` here to be able to override the default hidden behavior on the sphinx rendered scikit-learn.org. See: https://github.com/scikit-learn/scikit-learn/issues/21755 */display: inline-block !important;position: relative;}#sk-container-id-3 div.sk-text-repr-fallback {display: none;}</style><div id=\"sk-container-id-3\" class=\"sk-top-container\"><div class=\"sk-text-repr-fallback\"><pre>GridSearchCV(cv=5, estimator=LGBMClassifier(), n_jobs=-1,\n",
       "             param_grid={&#x27;learning_rate&#x27;: [0.1, 0.01, 0.001],\n",
       "                         &#x27;n_estimators&#x27;: [100, 200, 300, 400],\n",
       "                         &#x27;num_leaves&#x27;: [2, 3, 4, 5]},\n",
       "             scoring=&#x27;f1_macro&#x27;, verbose=1)</pre><b>In a Jupyter environment, please rerun this cell to show the HTML representation or trust the notebook. <br />On GitHub, the HTML representation is unable to render, please try loading this page with nbviewer.org.</b></div><div class=\"sk-container\" hidden><div class=\"sk-item sk-dashed-wrapped\"><div class=\"sk-label-container\"><div class=\"sk-label sk-toggleable\"><input class=\"sk-toggleable__control sk-hidden--visually\" id=\"sk-estimator-id-7\" type=\"checkbox\" ><label for=\"sk-estimator-id-7\" class=\"sk-toggleable__label sk-toggleable__label-arrow\">GridSearchCV</label><div class=\"sk-toggleable__content\"><pre>GridSearchCV(cv=5, estimator=LGBMClassifier(), n_jobs=-1,\n",
       "             param_grid={&#x27;learning_rate&#x27;: [0.1, 0.01, 0.001],\n",
       "                         &#x27;n_estimators&#x27;: [100, 200, 300, 400],\n",
       "                         &#x27;num_leaves&#x27;: [2, 3, 4, 5]},\n",
       "             scoring=&#x27;f1_macro&#x27;, verbose=1)</pre></div></div></div><div class=\"sk-parallel\"><div class=\"sk-parallel-item\"><div class=\"sk-item\"><div class=\"sk-label-container\"><div class=\"sk-label sk-toggleable\"><input class=\"sk-toggleable__control sk-hidden--visually\" id=\"sk-estimator-id-8\" type=\"checkbox\" ><label for=\"sk-estimator-id-8\" class=\"sk-toggleable__label sk-toggleable__label-arrow\">estimator: LGBMClassifier</label><div class=\"sk-toggleable__content\"><pre>LGBMClassifier()</pre></div></div></div><div class=\"sk-serial\"><div class=\"sk-item\"><div class=\"sk-estimator sk-toggleable\"><input class=\"sk-toggleable__control sk-hidden--visually\" id=\"sk-estimator-id-9\" type=\"checkbox\" ><label for=\"sk-estimator-id-9\" class=\"sk-toggleable__label sk-toggleable__label-arrow\">LGBMClassifier</label><div class=\"sk-toggleable__content\"><pre>LGBMClassifier()</pre></div></div></div></div></div></div></div></div></div></div>"
      ],
      "text/plain": [
       "GridSearchCV(cv=5, estimator=LGBMClassifier(), n_jobs=-1,\n",
       "             param_grid={'learning_rate': [0.1, 0.01, 0.001],\n",
       "                         'n_estimators': [100, 200, 300, 400],\n",
       "                         'num_leaves': [2, 3, 4, 5]},\n",
       "             scoring='f1_macro', verbose=1)"
      ]
     },
     "execution_count": 13,
     "metadata": {},
     "output_type": "execute_result"
    }
   ],
   "source": [
    "# Apply grid search to tune hyperparameters.\n",
    "n_estimators_list = list(range(100, 500, 100))\n",
    "num_leaves_list = list(range(2, 6))\n",
    "learning_rate_list = [0.1, 0.01, 0.001]\n",
    "parameters_lgbm = {\n",
    "    \"n_estimators\": n_estimators_list,\n",
    "    \"num_leaves\" : num_leaves_list,\n",
    "    \"learning_rate\" : learning_rate_list\n",
    "}  \n",
    "lgbm_final = GridSearchCV(\n",
    "    LGBMClassifier(),\n",
    "    parameters_lgbm,\n",
    "    scoring=\"f1_macro\",\n",
    "    cv=5,\n",
    "    verbose=1,\n",
    "    n_jobs=-1\n",
    ")\n",
    "lgbm_final.fit(x_train, y_train)"
   ]
  },
  {
   "cell_type": "code",
   "execution_count": 14,
   "id": "cc3bace6-661e-4e85-a47c-0a5cf9f42a54",
   "metadata": {},
   "outputs": [
    {
     "data": {
      "text/html": [
       "<div>\n",
       "<style scoped>\n",
       "    .dataframe tbody tr th:only-of-type {\n",
       "        vertical-align: middle;\n",
       "    }\n",
       "\n",
       "    .dataframe tbody tr th {\n",
       "        vertical-align: top;\n",
       "    }\n",
       "\n",
       "    .dataframe thead th {\n",
       "        text-align: right;\n",
       "    }\n",
       "</style>\n",
       "<table border=\"1\" class=\"dataframe\">\n",
       "  <thead>\n",
       "    <tr style=\"text-align: right;\">\n",
       "      <th></th>\n",
       "      <th>Params</th>\n",
       "      <th>Mean out-of-bag F1</th>\n",
       "    </tr>\n",
       "  </thead>\n",
       "  <tbody>\n",
       "    <tr>\n",
       "      <th>0</th>\n",
       "      <td>{'learning_rate': 0.1, 'n_estimators': 100, 'n...</td>\n",
       "      <td>0.638524</td>\n",
       "    </tr>\n",
       "    <tr>\n",
       "      <th>1</th>\n",
       "      <td>{'learning_rate': 0.1, 'n_estimators': 100, 'n...</td>\n",
       "      <td>0.651633</td>\n",
       "    </tr>\n",
       "    <tr>\n",
       "      <th>2</th>\n",
       "      <td>{'learning_rate': 0.1, 'n_estimators': 100, 'n...</td>\n",
       "      <td>0.663410</td>\n",
       "    </tr>\n",
       "    <tr>\n",
       "      <th>3</th>\n",
       "      <td>{'learning_rate': 0.1, 'n_estimators': 100, 'n...</td>\n",
       "      <td>0.672204</td>\n",
       "    </tr>\n",
       "    <tr>\n",
       "      <th>4</th>\n",
       "      <td>{'learning_rate': 0.1, 'n_estimators': 200, 'n...</td>\n",
       "      <td>0.649803</td>\n",
       "    </tr>\n",
       "  </tbody>\n",
       "</table>\n",
       "</div>"
      ],
      "text/plain": [
       "                                              Params  Mean out-of-bag F1\n",
       "0  {'learning_rate': 0.1, 'n_estimators': 100, 'n...            0.638524\n",
       "1  {'learning_rate': 0.1, 'n_estimators': 100, 'n...            0.651633\n",
       "2  {'learning_rate': 0.1, 'n_estimators': 100, 'n...            0.663410\n",
       "3  {'learning_rate': 0.1, 'n_estimators': 100, 'n...            0.672204\n",
       "4  {'learning_rate': 0.1, 'n_estimators': 200, 'n...            0.649803"
      ]
     },
     "metadata": {},
     "output_type": "display_data"
    },
    {
     "data": {
      "text/html": [
       "<div>\n",
       "<style scoped>\n",
       "    .dataframe tbody tr th:only-of-type {\n",
       "        vertical-align: middle;\n",
       "    }\n",
       "\n",
       "    .dataframe tbody tr th {\n",
       "        vertical-align: top;\n",
       "    }\n",
       "\n",
       "    .dataframe thead th {\n",
       "        text-align: right;\n",
       "    }\n",
       "</style>\n",
       "<table border=\"1\" class=\"dataframe\">\n",
       "  <thead>\n",
       "    <tr style=\"text-align: right;\">\n",
       "      <th></th>\n",
       "      <th>Params</th>\n",
       "      <th>Mean out-of-bag F1</th>\n",
       "    </tr>\n",
       "  </thead>\n",
       "  <tbody>\n",
       "    <tr>\n",
       "      <th>43</th>\n",
       "      <td>{'learning_rate': 0.001, 'n_estimators': 300, ...</td>\n",
       "      <td>0.504246</td>\n",
       "    </tr>\n",
       "    <tr>\n",
       "      <th>44</th>\n",
       "      <td>{'learning_rate': 0.001, 'n_estimators': 400, ...</td>\n",
       "      <td>0.423957</td>\n",
       "    </tr>\n",
       "    <tr>\n",
       "      <th>45</th>\n",
       "      <td>{'learning_rate': 0.001, 'n_estimators': 400, ...</td>\n",
       "      <td>0.492717</td>\n",
       "    </tr>\n",
       "    <tr>\n",
       "      <th>46</th>\n",
       "      <td>{'learning_rate': 0.001, 'n_estimators': 400, ...</td>\n",
       "      <td>0.501976</td>\n",
       "    </tr>\n",
       "    <tr>\n",
       "      <th>47</th>\n",
       "      <td>{'learning_rate': 0.001, 'n_estimators': 400, ...</td>\n",
       "      <td>0.518048</td>\n",
       "    </tr>\n",
       "  </tbody>\n",
       "</table>\n",
       "</div>"
      ],
      "text/plain": [
       "                                               Params  Mean out-of-bag F1\n",
       "43  {'learning_rate': 0.001, 'n_estimators': 300, ...            0.504246\n",
       "44  {'learning_rate': 0.001, 'n_estimators': 400, ...            0.423957\n",
       "45  {'learning_rate': 0.001, 'n_estimators': 400, ...            0.492717\n",
       "46  {'learning_rate': 0.001, 'n_estimators': 400, ...            0.501976\n",
       "47  {'learning_rate': 0.001, 'n_estimators': 400, ...            0.518048"
      ]
     },
     "metadata": {},
     "output_type": "display_data"
    },
    {
     "name": "stderr",
     "output_type": "stream",
     "text": [
      "2023-05-07 20:13:57,584:INFO:utils:Best parameters: {'learning_rate': 0.1, 'n_estimators': 400, 'num_leaves': 5}. Best mean out-of-bag F1: 0.7008508431458604\n"
     ]
    }
   ],
   "source": [
    "# Get and display best results.\n",
    "best_parameters_gs = gs_display_save_results(\n",
    "    gscv_fit=lgbm_final, \n",
    "    file_prefix=\"lgbm\", \n",
    "    save=True\n",
    ")"
   ]
  },
  {
   "cell_type": "code",
   "execution_count": 15,
   "id": "a9c257a4-60d1-48cb-94f8-a6b924f32631",
   "metadata": {},
   "outputs": [
    {
     "name": "stderr",
     "output_type": "stream",
     "text": [
      "2023-05-07 20:13:58,041:INFO:utils:--------------------COMPUTING TEST SET PERFORMANCE METRICS--------------------\n",
      "\n",
      "2023-05-07 20:13:58,042:INFO:utils:Accuracy: 0.69520732364028\n",
      "2023-05-07 20:13:58,044:INFO:utils:ROC AUC: 0.7713268575379141\n",
      "2023-05-07 20:13:58,045:INFO:utils:Confusion matrix:\n",
      "[[579 355]\n",
      " [211 712]]\n",
      "2023-05-07 20:13:58,051:INFO:utils:\n",
      "              precision    recall  f1-score   support\n",
      "\n",
      "           0       0.73      0.62      0.67       934\n",
      "           1       0.67      0.77      0.72       923\n",
      "\n",
      "    accuracy                           0.70      1857\n",
      "   macro avg       0.70      0.70      0.69      1857\n",
      "weighted avg       0.70      0.70      0.69      1857\n",
      "\n",
      "2023-05-07 20:13:58,051:INFO:utils:--------------------COMPUTING CROSS-VALIDATED PERFORMANCE METRICS--------------------\n",
      "\n",
      "2023-05-07 20:13:59,401:INFO:utils:Cross-validated precision: 0.6744627906895679\n",
      "2023-05-07 20:14:00,781:INFO:utils:Cross-validated recall: 0.7730115479912689\n",
      "2023-05-07 20:14:02,182:INFO:utils:Cross-validated f1_macro: 0.7008508431458604\n",
      "2023-05-07 20:14:03,531:INFO:utils:Cross-validated roc_auc: 0.776019913116019\n"
     ]
    }
   ],
   "source": [
    "# Evaluate best model.\n",
    "best_model = lgbm_final.best_estimator_\n",
    "get_model_performance_metrics(\n",
    "    clf=best_model,\n",
    "    x_train=x_train,\n",
    "    y_train=y_train,\n",
    "    x_test=x_test,\n",
    "    y_test=y_test\n",
    ")"
   ]
  },
  {
   "cell_type": "markdown",
   "id": "14214cbb-53d8-4bd6-b5d2-67454cd44ce1",
   "metadata": {},
   "source": [
    "# Ensemble Learning"
   ]
  },
  {
   "cell_type": "code",
   "execution_count": 16,
   "id": "2a4ec1ea-ca27-4a0c-9c01-17827ed39b63",
   "metadata": {},
   "outputs": [],
   "source": [
    "## Load best models\n",
    "prefix_list = [\"rf\", \"lgbm\", \"logreg\"]\n",
    "for prefix in prefix_list:\n",
    "    load_str = f\"\"\"{prefix}_best = s3_load_pickle(\n",
    "        key=paths.dev_models, \n",
    "        file_name=\"{prefix}_gscv.pickle\", \n",
    "        bucket=paths.s3_bucket.replace(\"s3://\", \"\"))[\"best_model\"]\n",
    "    \"\"\"\n",
    "    exec(load_str)"
   ]
  },
  {
   "cell_type": "code",
   "execution_count": 17,
   "id": "25ca7ecf-348e-4dad-8141-f5d4a42a6b1e",
   "metadata": {},
   "outputs": [
    {
     "name": "stderr",
     "output_type": "stream",
     "text": [
      "2023-05-07 20:14:45,361:INFO:utils:--------------------COMPUTING TEST SET PERFORMANCE METRICS--------------------\n",
      "\n",
      "2023-05-07 20:14:45,363:INFO:utils:Accuracy: 0.7065158858373721\n",
      "2023-05-07 20:14:45,366:INFO:utils:ROC AUC: 0.7906649251463318\n",
      "2023-05-07 20:14:45,367:INFO:utils:Confusion matrix:\n",
      "[[609 325]\n",
      " [220 703]]\n",
      "2023-05-07 20:14:45,373:INFO:utils:\n",
      "              precision    recall  f1-score   support\n",
      "\n",
      "           0       0.73      0.65      0.69       934\n",
      "           1       0.68      0.76      0.72       923\n",
      "\n",
      "    accuracy                           0.71      1857\n",
      "   macro avg       0.71      0.71      0.71      1857\n",
      "weighted avg       0.71      0.71      0.71      1857\n",
      "\n",
      "2023-05-07 20:14:45,375:INFO:utils:--------------------COMPUTING CROSS-VALIDATED PERFORMANCE METRICS--------------------\n",
      "\n",
      "2023-05-07 20:15:17,017:INFO:utils:Cross-validated precision: 0.699816640052514\n",
      "2023-05-07 20:15:46,928:INFO:utils:Cross-validated recall: 0.7746379269659608\n",
      "2023-05-07 20:16:22,616:INFO:utils:Cross-validated f1_macro: 0.7255245685922799\n",
      "2023-05-07 20:16:53,006:INFO:utils:Cross-validated roc_auc: 0.8026990926647206\n"
     ]
    }
   ],
   "source": [
    "# Majortity voting system: does not work as good as any single classifier\n",
    "estimator = []\n",
    "estimator.append((\"rf\", rf_best))\n",
    "estimator.append((\"lgbm\", lgbm_best))\n",
    "estimator.append((\"logreg\", logreg_best))\n",
    "\n",
    "eclf = VotingClassifier(\n",
    "    estimators=estimator,\n",
    "    voting=\"soft\",\n",
    "    weights=[1,1,1],\n",
    "    flatten_transform=True,\n",
    "    n_jobs=-1\n",
    ")\n",
    "eclf.fit(x_train, y_train)\n",
    "\n",
    "get_model_performance_metrics(\n",
    "    clf=eclf,\n",
    "    x_train=x_train,\n",
    "    y_train=y_train,\n",
    "    x_test=x_test,\n",
    "    y_test=y_test\n",
    ")"
   ]
  },
  {
   "cell_type": "code",
   "execution_count": 18,
   "id": "fe912abd-524e-4715-a3f0-8a89b80d1077",
   "metadata": {},
   "outputs": [
    {
     "name": "stdout",
     "output_type": "stream",
     "text": [
      "Fitting 5 folds for each of 26 candidates, totalling 130 fits\n"
     ]
    },
    {
     "data": {
      "text/html": [
       "<style>#sk-container-id-4 {color: black;background-color: white;}#sk-container-id-4 pre{padding: 0;}#sk-container-id-4 div.sk-toggleable {background-color: white;}#sk-container-id-4 label.sk-toggleable__label {cursor: pointer;display: block;width: 100%;margin-bottom: 0;padding: 0.3em;box-sizing: border-box;text-align: center;}#sk-container-id-4 label.sk-toggleable__label-arrow:before {content: \"▸\";float: left;margin-right: 0.25em;color: #696969;}#sk-container-id-4 label.sk-toggleable__label-arrow:hover:before {color: black;}#sk-container-id-4 div.sk-estimator:hover label.sk-toggleable__label-arrow:before {color: black;}#sk-container-id-4 div.sk-toggleable__content {max-height: 0;max-width: 0;overflow: hidden;text-align: left;background-color: #f0f8ff;}#sk-container-id-4 div.sk-toggleable__content pre {margin: 0.2em;color: black;border-radius: 0.25em;background-color: #f0f8ff;}#sk-container-id-4 input.sk-toggleable__control:checked~div.sk-toggleable__content {max-height: 200px;max-width: 100%;overflow: auto;}#sk-container-id-4 input.sk-toggleable__control:checked~label.sk-toggleable__label-arrow:before {content: \"▾\";}#sk-container-id-4 div.sk-estimator input.sk-toggleable__control:checked~label.sk-toggleable__label {background-color: #d4ebff;}#sk-container-id-4 div.sk-label input.sk-toggleable__control:checked~label.sk-toggleable__label {background-color: #d4ebff;}#sk-container-id-4 input.sk-hidden--visually {border: 0;clip: rect(1px 1px 1px 1px);clip: rect(1px, 1px, 1px, 1px);height: 1px;margin: -1px;overflow: hidden;padding: 0;position: absolute;width: 1px;}#sk-container-id-4 div.sk-estimator {font-family: monospace;background-color: #f0f8ff;border: 1px dotted black;border-radius: 0.25em;box-sizing: border-box;margin-bottom: 0.5em;}#sk-container-id-4 div.sk-estimator:hover {background-color: #d4ebff;}#sk-container-id-4 div.sk-parallel-item::after {content: \"\";width: 100%;border-bottom: 1px solid gray;flex-grow: 1;}#sk-container-id-4 div.sk-label:hover label.sk-toggleable__label {background-color: #d4ebff;}#sk-container-id-4 div.sk-serial::before {content: \"\";position: absolute;border-left: 1px solid gray;box-sizing: border-box;top: 0;bottom: 0;left: 50%;z-index: 0;}#sk-container-id-4 div.sk-serial {display: flex;flex-direction: column;align-items: center;background-color: white;padding-right: 0.2em;padding-left: 0.2em;position: relative;}#sk-container-id-4 div.sk-item {position: relative;z-index: 1;}#sk-container-id-4 div.sk-parallel {display: flex;align-items: stretch;justify-content: center;background-color: white;position: relative;}#sk-container-id-4 div.sk-item::before, #sk-container-id-4 div.sk-parallel-item::before {content: \"\";position: absolute;border-left: 1px solid gray;box-sizing: border-box;top: 0;bottom: 0;left: 50%;z-index: -1;}#sk-container-id-4 div.sk-parallel-item {display: flex;flex-direction: column;z-index: 1;position: relative;background-color: white;}#sk-container-id-4 div.sk-parallel-item:first-child::after {align-self: flex-end;width: 50%;}#sk-container-id-4 div.sk-parallel-item:last-child::after {align-self: flex-start;width: 50%;}#sk-container-id-4 div.sk-parallel-item:only-child::after {width: 0;}#sk-container-id-4 div.sk-dashed-wrapped {border: 1px dashed gray;margin: 0 0.4em 0.5em 0.4em;box-sizing: border-box;padding-bottom: 0.4em;background-color: white;}#sk-container-id-4 div.sk-label label {font-family: monospace;font-weight: bold;display: inline-block;line-height: 1.2em;}#sk-container-id-4 div.sk-label-container {text-align: center;}#sk-container-id-4 div.sk-container {/* jupyter's `normalize.less` sets `[hidden] { display: none; }` but bootstrap.min.css set `[hidden] { display: none !important; }` so we also need the `!important` here to be able to override the default hidden behavior on the sphinx rendered scikit-learn.org. See: https://github.com/scikit-learn/scikit-learn/issues/21755 */display: inline-block !important;position: relative;}#sk-container-id-4 div.sk-text-repr-fallback {display: none;}</style><div id=\"sk-container-id-4\" class=\"sk-top-container\"><div class=\"sk-text-repr-fallback\"><pre>GridSearchCV(cv=5,\n",
       "             estimator=VotingClassifier(estimators=[(&#x27;rf&#x27;,\n",
       "                                                     RandomForestClassifier(n_estimators=160)),\n",
       "                                                    (&#x27;lgbm&#x27;,\n",
       "                                                     LGBMClassifier(n_estimators=400,\n",
       "                                                                    num_leaves=5)),\n",
       "                                                    (&#x27;logreg&#x27;,\n",
       "                                                     LogisticRegression(l1_ratio=0.25,\n",
       "                                                                        n_jobs=-1,\n",
       "                                                                        penalty=&#x27;elasticnet&#x27;,\n",
       "                                                                        solver=&#x27;saga&#x27;))],\n",
       "                                        voting=&#x27;soft&#x27;),\n",
       "             n_jobs=-1,\n",
       "             param_grid={&#x27;weights&#x27;: [[0, 0, 1], [0, 0, 2], [0, 1, 0], [0, 1, 1],\n",
       "                                     [0, 1, 2], [0, 2, 0], [0, 2, 1], [0, 2, 2],\n",
       "                                     [1, 0, 0], [1, 0, 1], [1, 0, 2], [1, 1, 0],\n",
       "                                     [1, 1, 1], [1, 1, 2], [1, 2, 0], [1, 2, 1],\n",
       "                                     [1, 2, 2], [2, 0, 0], [2, 0, 1], [2, 0, 2],\n",
       "                                     [2, 1, 0], [2, 1, 1], [2, 1, 2], [2, 2, 0],\n",
       "                                     [2, 2, 1], [2, 2, 2]]},\n",
       "             scoring=&#x27;f1_macro&#x27;, verbose=1)</pre><b>In a Jupyter environment, please rerun this cell to show the HTML representation or trust the notebook. <br />On GitHub, the HTML representation is unable to render, please try loading this page with nbviewer.org.</b></div><div class=\"sk-container\" hidden><div class=\"sk-item sk-dashed-wrapped\"><div class=\"sk-label-container\"><div class=\"sk-label sk-toggleable\"><input class=\"sk-toggleable__control sk-hidden--visually\" id=\"sk-estimator-id-10\" type=\"checkbox\" ><label for=\"sk-estimator-id-10\" class=\"sk-toggleable__label sk-toggleable__label-arrow\">GridSearchCV</label><div class=\"sk-toggleable__content\"><pre>GridSearchCV(cv=5,\n",
       "             estimator=VotingClassifier(estimators=[(&#x27;rf&#x27;,\n",
       "                                                     RandomForestClassifier(n_estimators=160)),\n",
       "                                                    (&#x27;lgbm&#x27;,\n",
       "                                                     LGBMClassifier(n_estimators=400,\n",
       "                                                                    num_leaves=5)),\n",
       "                                                    (&#x27;logreg&#x27;,\n",
       "                                                     LogisticRegression(l1_ratio=0.25,\n",
       "                                                                        n_jobs=-1,\n",
       "                                                                        penalty=&#x27;elasticnet&#x27;,\n",
       "                                                                        solver=&#x27;saga&#x27;))],\n",
       "                                        voting=&#x27;soft&#x27;),\n",
       "             n_jobs=-1,\n",
       "             param_grid={&#x27;weights&#x27;: [[0, 0, 1], [0, 0, 2], [0, 1, 0], [0, 1, 1],\n",
       "                                     [0, 1, 2], [0, 2, 0], [0, 2, 1], [0, 2, 2],\n",
       "                                     [1, 0, 0], [1, 0, 1], [1, 0, 2], [1, 1, 0],\n",
       "                                     [1, 1, 1], [1, 1, 2], [1, 2, 0], [1, 2, 1],\n",
       "                                     [1, 2, 2], [2, 0, 0], [2, 0, 1], [2, 0, 2],\n",
       "                                     [2, 1, 0], [2, 1, 1], [2, 1, 2], [2, 2, 0],\n",
       "                                     [2, 2, 1], [2, 2, 2]]},\n",
       "             scoring=&#x27;f1_macro&#x27;, verbose=1)</pre></div></div></div><div class=\"sk-parallel\"><div class=\"sk-parallel-item\"><div class=\"sk-item\"><div class=\"sk-label-container\"><div class=\"sk-label sk-toggleable\"><input class=\"sk-toggleable__control sk-hidden--visually\" id=\"sk-estimator-id-11\" type=\"checkbox\" ><label for=\"sk-estimator-id-11\" class=\"sk-toggleable__label sk-toggleable__label-arrow\">estimator: VotingClassifier</label><div class=\"sk-toggleable__content\"><pre>VotingClassifier(estimators=[(&#x27;rf&#x27;, RandomForestClassifier(n_estimators=160)),\n",
       "                             (&#x27;lgbm&#x27;,\n",
       "                              LGBMClassifier(n_estimators=400, num_leaves=5)),\n",
       "                             (&#x27;logreg&#x27;,\n",
       "                              LogisticRegression(l1_ratio=0.25, n_jobs=-1,\n",
       "                                                 penalty=&#x27;elasticnet&#x27;,\n",
       "                                                 solver=&#x27;saga&#x27;))],\n",
       "                 voting=&#x27;soft&#x27;)</pre></div></div></div><div class=\"sk-serial\"><div class=\"sk-item sk-dashed-wrapped\"><div class=\"sk-parallel\"><div class=\"sk-parallel-item\"><div class=\"sk-item\"><div class=\"sk-label-container\"><div class=\"sk-label sk-toggleable\"><label>rf</label></div></div><div class=\"sk-serial\"><div class=\"sk-item\"><div class=\"sk-estimator sk-toggleable\"><input class=\"sk-toggleable__control sk-hidden--visually\" id=\"sk-estimator-id-12\" type=\"checkbox\" ><label for=\"sk-estimator-id-12\" class=\"sk-toggleable__label sk-toggleable__label-arrow\">RandomForestClassifier</label><div class=\"sk-toggleable__content\"><pre>RandomForestClassifier(n_estimators=160)</pre></div></div></div></div></div></div><div class=\"sk-parallel-item\"><div class=\"sk-item\"><div class=\"sk-label-container\"><div class=\"sk-label sk-toggleable\"><label>lgbm</label></div></div><div class=\"sk-serial\"><div class=\"sk-item\"><div class=\"sk-estimator sk-toggleable\"><input class=\"sk-toggleable__control sk-hidden--visually\" id=\"sk-estimator-id-13\" type=\"checkbox\" ><label for=\"sk-estimator-id-13\" class=\"sk-toggleable__label sk-toggleable__label-arrow\">LGBMClassifier</label><div class=\"sk-toggleable__content\"><pre>LGBMClassifier(n_estimators=400, num_leaves=5)</pre></div></div></div></div></div></div><div class=\"sk-parallel-item\"><div class=\"sk-item\"><div class=\"sk-label-container\"><div class=\"sk-label sk-toggleable\"><label>logreg</label></div></div><div class=\"sk-serial\"><div class=\"sk-item\"><div class=\"sk-estimator sk-toggleable\"><input class=\"sk-toggleable__control sk-hidden--visually\" id=\"sk-estimator-id-14\" type=\"checkbox\" ><label for=\"sk-estimator-id-14\" class=\"sk-toggleable__label sk-toggleable__label-arrow\">LogisticRegression</label><div class=\"sk-toggleable__content\"><pre>LogisticRegression(l1_ratio=0.25, n_jobs=-1, penalty=&#x27;elasticnet&#x27;,\n",
       "                   solver=&#x27;saga&#x27;)</pre></div></div></div></div></div></div></div></div></div></div></div></div></div></div></div>"
      ],
      "text/plain": [
       "GridSearchCV(cv=5,\n",
       "             estimator=VotingClassifier(estimators=[('rf',\n",
       "                                                     RandomForestClassifier(n_estimators=160)),\n",
       "                                                    ('lgbm',\n",
       "                                                     LGBMClassifier(n_estimators=400,\n",
       "                                                                    num_leaves=5)),\n",
       "                                                    ('logreg',\n",
       "                                                     LogisticRegression(l1_ratio=0.25,\n",
       "                                                                        n_jobs=-1,\n",
       "                                                                        penalty='elasticnet',\n",
       "                                                                        solver='saga'))],\n",
       "                                        voting='soft'),\n",
       "             n_jobs=-1,\n",
       "             param_grid={'weights': [[0, 0, 1], [0, 0, 2], [0, 1, 0], [0, 1, 1],\n",
       "                                     [0, 1, 2], [0, 2, 0], [0, 2, 1], [0, 2, 2],\n",
       "                                     [1, 0, 0], [1, 0, 1], [1, 0, 2], [1, 1, 0],\n",
       "                                     [1, 1, 1], [1, 1, 2], [1, 2, 0], [1, 2, 1],\n",
       "                                     [1, 2, 2], [2, 0, 0], [2, 0, 1], [2, 0, 2],\n",
       "                                     [2, 1, 0], [2, 1, 1], [2, 1, 2], [2, 2, 0],\n",
       "                                     [2, 2, 1], [2, 2, 2]]},\n",
       "             scoring='f1_macro', verbose=1)"
      ]
     },
     "execution_count": 18,
     "metadata": {},
     "output_type": "execute_result"
    }
   ],
   "source": [
    "# Apply grid search for hyper parameter tuning.\n",
    "weights_range = list(range(0, 3))\n",
    "weights_tuple = itertools.product(weights_range, weights_range, weights_range)\n",
    "weights_list = [list(_tuple) for _tuple in list(weights_tuple)]\n",
    "weights_list.remove([0, 0, 0])\n",
    "\n",
    "parameters_eclf = {\"weights\": weights_list}\n",
    "eclf_final = GridSearchCV(\n",
    "    VotingClassifier(estimators=estimator, voting=\"soft\", flatten_transform=True),\n",
    "    parameters_eclf,\n",
    "    scoring=\"f1_macro\",\n",
    "    cv=5,\n",
    "    verbose=1,\n",
    "    n_jobs=-1\n",
    ")\n",
    "eclf_final.fit(x_train, y_train)"
   ]
  },
  {
   "cell_type": "code",
   "execution_count": 19,
   "id": "6ebe07ae-dafa-4ecd-a3ee-ce7d4b20795d",
   "metadata": {},
   "outputs": [
    {
     "data": {
      "text/html": [
       "<div>\n",
       "<style scoped>\n",
       "    .dataframe tbody tr th:only-of-type {\n",
       "        vertical-align: middle;\n",
       "    }\n",
       "\n",
       "    .dataframe tbody tr th {\n",
       "        vertical-align: top;\n",
       "    }\n",
       "\n",
       "    .dataframe thead th {\n",
       "        text-align: right;\n",
       "    }\n",
       "</style>\n",
       "<table border=\"1\" class=\"dataframe\">\n",
       "  <thead>\n",
       "    <tr style=\"text-align: right;\">\n",
       "      <th></th>\n",
       "      <th>Params</th>\n",
       "      <th>Mean out-of-bag F1</th>\n",
       "    </tr>\n",
       "  </thead>\n",
       "  <tbody>\n",
       "    <tr>\n",
       "      <th>0</th>\n",
       "      <td>{'weights': [0, 0, 1]}</td>\n",
       "      <td>0.729672</td>\n",
       "    </tr>\n",
       "    <tr>\n",
       "      <th>1</th>\n",
       "      <td>{'weights': [0, 0, 2]}</td>\n",
       "      <td>0.729672</td>\n",
       "    </tr>\n",
       "    <tr>\n",
       "      <th>2</th>\n",
       "      <td>{'weights': [0, 1, 0]}</td>\n",
       "      <td>0.700851</td>\n",
       "    </tr>\n",
       "    <tr>\n",
       "      <th>3</th>\n",
       "      <td>{'weights': [0, 1, 1]}</td>\n",
       "      <td>0.723321</td>\n",
       "    </tr>\n",
       "    <tr>\n",
       "      <th>4</th>\n",
       "      <td>{'weights': [0, 1, 2]}</td>\n",
       "      <td>0.728124</td>\n",
       "    </tr>\n",
       "  </tbody>\n",
       "</table>\n",
       "</div>"
      ],
      "text/plain": [
       "                   Params  Mean out-of-bag F1\n",
       "0  {'weights': [0, 0, 1]}            0.729672\n",
       "1  {'weights': [0, 0, 2]}            0.729672\n",
       "2  {'weights': [0, 1, 0]}            0.700851\n",
       "3  {'weights': [0, 1, 1]}            0.723321\n",
       "4  {'weights': [0, 1, 2]}            0.728124"
      ]
     },
     "metadata": {},
     "output_type": "display_data"
    },
    {
     "data": {
      "text/html": [
       "<div>\n",
       "<style scoped>\n",
       "    .dataframe tbody tr th:only-of-type {\n",
       "        vertical-align: middle;\n",
       "    }\n",
       "\n",
       "    .dataframe tbody tr th {\n",
       "        vertical-align: top;\n",
       "    }\n",
       "\n",
       "    .dataframe thead th {\n",
       "        text-align: right;\n",
       "    }\n",
       "</style>\n",
       "<table border=\"1\" class=\"dataframe\">\n",
       "  <thead>\n",
       "    <tr style=\"text-align: right;\">\n",
       "      <th></th>\n",
       "      <th>Params</th>\n",
       "      <th>Mean out-of-bag F1</th>\n",
       "    </tr>\n",
       "  </thead>\n",
       "  <tbody>\n",
       "    <tr>\n",
       "      <th>21</th>\n",
       "      <td>{'weights': [2, 1, 1]}</td>\n",
       "      <td>0.721202</td>\n",
       "    </tr>\n",
       "    <tr>\n",
       "      <th>22</th>\n",
       "      <td>{'weights': [2, 1, 2]}</td>\n",
       "      <td>0.726807</td>\n",
       "    </tr>\n",
       "    <tr>\n",
       "      <th>23</th>\n",
       "      <td>{'weights': [2, 2, 0]}</td>\n",
       "      <td>0.716257</td>\n",
       "    </tr>\n",
       "    <tr>\n",
       "      <th>24</th>\n",
       "      <td>{'weights': [2, 2, 1]}</td>\n",
       "      <td>0.721299</td>\n",
       "    </tr>\n",
       "    <tr>\n",
       "      <th>25</th>\n",
       "      <td>{'weights': [2, 2, 2]}</td>\n",
       "      <td>0.722171</td>\n",
       "    </tr>\n",
       "  </tbody>\n",
       "</table>\n",
       "</div>"
      ],
      "text/plain": [
       "                    Params  Mean out-of-bag F1\n",
       "21  {'weights': [2, 1, 1]}            0.721202\n",
       "22  {'weights': [2, 1, 2]}            0.726807\n",
       "23  {'weights': [2, 2, 0]}            0.716257\n",
       "24  {'weights': [2, 2, 1]}            0.721299\n",
       "25  {'weights': [2, 2, 2]}            0.722171"
      ]
     },
     "metadata": {},
     "output_type": "display_data"
    },
    {
     "name": "stderr",
     "output_type": "stream",
     "text": [
      "2023-05-07 20:20:08,618:INFO:utils:Best parameters: {'weights': [0, 0, 1]}. Best mean out-of-bag F1: 0.7296721036445458\n"
     ]
    }
   ],
   "source": [
    "# Get and display best results.\n",
    "best_parameters_gs = gs_display_save_results(\n",
    "    gscv_fit=eclf_final, \n",
    "    file_prefix=\"eclf\", \n",
    "    save=True\n",
    ")"
   ]
  },
  {
   "cell_type": "code",
   "execution_count": 20,
   "id": "6a93f86f-1c8b-4e17-8f3b-d165cd3c0bfa",
   "metadata": {},
   "outputs": [
    {
     "name": "stderr",
     "output_type": "stream",
     "text": [
      "2023-05-07 20:20:10,272:INFO:utils:--------------------COMPUTING TEST SET PERFORMANCE METRICS--------------------\n",
      "\n",
      "2023-05-07 20:20:10,274:INFO:utils:Accuracy: 0.7135164243403339\n",
      "2023-05-07 20:20:10,276:INFO:utils:ROC AUC: 0.7901910723109866\n",
      "2023-05-07 20:20:10,278:INFO:utils:Confusion matrix:\n",
      "[[652 282]\n",
      " [250 673]]\n",
      "2023-05-07 20:20:10,284:INFO:utils:\n",
      "              precision    recall  f1-score   support\n",
      "\n",
      "           0       0.72      0.70      0.71       934\n",
      "           1       0.70      0.73      0.72       923\n",
      "\n",
      "    accuracy                           0.71      1857\n",
      "   macro avg       0.71      0.71      0.71      1857\n",
      "weighted avg       0.71      0.71      0.71      1857\n",
      "\n",
      "2023-05-07 20:20:10,284:INFO:utils:--------------------COMPUTING CROSS-VALIDATED PERFORMANCE METRICS--------------------\n",
      "\n",
      "2023-05-07 20:21:00,190:INFO:utils:Cross-validated precision: 0.7181219871007907\n",
      "2023-05-07 20:21:50,105:INFO:utils:Cross-validated recall: 0.7499314199752227\n",
      "2023-05-07 20:22:39,160:INFO:utils:Cross-validated f1_macro: 0.7296721036445458\n",
      "2023-05-07 20:23:29,709:INFO:utils:Cross-validated roc_auc: 0.8042210349547533\n"
     ]
    }
   ],
   "source": [
    "# Evaluate best model.\n",
    "best_model = eclf_final.best_estimator_\n",
    "get_model_performance_metrics(\n",
    "    clf=best_model,\n",
    "    x_train=x_train,\n",
    "    y_train=y_train,\n",
    "    x_test=x_test,\n",
    "    y_test=y_test\n",
    ")"
   ]
  },
  {
   "cell_type": "markdown",
   "id": "f4a30139-1318-4f63-a0f2-7a1f862c6240",
   "metadata": {},
   "source": [
    "# Dimension Reduction via PCA"
   ]
  },
  {
   "cell_type": "code",
   "execution_count": 4,
   "id": "12d6eb96-c28c-4d3d-a4eb-db048fd8274a",
   "metadata": {},
   "outputs": [
    {
     "name": "stderr",
     "output_type": "stream",
     "text": [
      "2023-05-07 22:36:28,227:INFO:PCAPlotIt:Target cumulative variance: 0.8\n",
      "2023-05-07 22:36:28,228:INFO:PCAPlotIt:Number of principal components: 1975\n"
     ]
    },
    {
     "data": {
      "image/png": "[encoded data removed]",
      "text/plain": [
       "<Figure size 1400x600 with 2 Axes>"
      ]
     },
     "metadata": {},
     "output_type": "display_data"
    }
   ],
   "source": [
    "pca = PCAPlotIt(cumulative_variance_target=0.8)\n",
    "pca.fit(x_train)\n",
    "pca.generate_plots()"
   ]
  },
  {
   "cell_type": "code",
   "execution_count": 5,
   "id": "04f3c9c2-6709-493f-9da4-83f4d7d91efc",
   "metadata": {},
   "outputs": [],
   "source": [
    "df_train_pcs = pca.transform(x_train)\n",
    "df_test_pcs = pca.transform(x_test)"
   ]
  },
  {
   "cell_type": "code",
   "execution_count": 7,
   "id": "5c8d4aff-6356-41b2-9853-bdaab0c060b5",
   "metadata": {},
   "outputs": [],
   "source": [
    "# Save trained PCA.\n",
    "pca.save()"
   ]
  },
  {
   "cell_type": "code",
   "execution_count": 8,
   "id": "e6884f47-71a1-4010-aef4-4960b6635303",
   "metadata": {},
   "outputs": [
    {
     "name": "stderr",
     "output_type": "stream",
     "text": [
      "2023-05-07 22:02:29,057:INFO:utils:--------------------COMPUTING TEST SET PERFORMANCE METRICS--------------------\n",
      "\n",
      "2023-05-07 22:02:29,059:INFO:utils:Accuracy: 0.7070543887991384\n",
      "2023-05-07 22:02:29,061:INFO:utils:ROC AUC: 0.7876884101512385\n",
      "2023-05-07 22:02:29,062:INFO:utils:Confusion matrix:\n",
      "[[646 288]\n",
      " [256 667]]\n",
      "2023-05-07 22:02:29,067:INFO:utils:\n",
      "              precision    recall  f1-score   support\n",
      "\n",
      "           0       0.72      0.69      0.70       934\n",
      "           1       0.70      0.72      0.71       923\n",
      "\n",
      "    accuracy                           0.71      1857\n",
      "   macro avg       0.71      0.71      0.71      1857\n",
      "weighted avg       0.71      0.71      0.71      1857\n",
      "\n",
      "2023-05-07 22:02:29,067:INFO:utils:--------------------COMPUTING CROSS-VALIDATED PERFORMANCE METRICS--------------------\n",
      "\n",
      "2023-05-07 22:02:34,984:INFO:utils:Cross-validated precision: 0.7183388654557941\n",
      "2023-05-07 22:02:38,020:INFO:utils:Cross-validated recall: 0.7396130759247243\n",
      "2023-05-07 22:02:41,052:INFO:utils:Cross-validated f1_macro: 0.7269215958559239\n",
      "2023-05-07 22:02:44,113:INFO:utils:Cross-validated roc_auc: 0.801699461541903\n"
     ]
    }
   ],
   "source": [
    "# Build logistic regression classifier.\n",
    "logit_classifier = LogisticRegression(\n",
    "    random_state=0,\n",
    "    penalty=\"elasticnet\",\n",
    "    l1_ratio=0.5,\n",
    "    solver=\"saga\",\n",
    "    n_jobs=-1\n",
    ")\n",
    "logit_classifier.fit(df_train_pcs, y_train)\n",
    "\n",
    "get_model_performance_metrics(\n",
    "    clf=logit_classifier,\n",
    "    x_train=df_train_pcs,\n",
    "    y_train=y_train,\n",
    "    x_test=df_test_pcs,\n",
    "    y_test=y_test\n",
    ")"
   ]
  },
  {
   "cell_type": "code",
   "execution_count": 10,
   "id": "7a775e78-cf6d-40d0-a026-47e072f52ca7",
   "metadata": {},
   "outputs": [
    {
     "name": "stdout",
     "output_type": "stream",
     "text": [
      "Fitting 5 folds for each of 21 candidates, totalling 105 fits\n"
     ]
    },
    {
     "data": {
      "text/html": [
       "<style>#sk-container-id-1 {color: black;background-color: white;}#sk-container-id-1 pre{padding: 0;}#sk-container-id-1 div.sk-toggleable {background-color: white;}#sk-container-id-1 label.sk-toggleable__label {cursor: pointer;display: block;width: 100%;margin-bottom: 0;padding: 0.3em;box-sizing: border-box;text-align: center;}#sk-container-id-1 label.sk-toggleable__label-arrow:before {content: \"▸\";float: left;margin-right: 0.25em;color: #696969;}#sk-container-id-1 label.sk-toggleable__label-arrow:hover:before {color: black;}#sk-container-id-1 div.sk-estimator:hover label.sk-toggleable__label-arrow:before {color: black;}#sk-container-id-1 div.sk-toggleable__content {max-height: 0;max-width: 0;overflow: hidden;text-align: left;background-color: #f0f8ff;}#sk-container-id-1 div.sk-toggleable__content pre {margin: 0.2em;color: black;border-radius: 0.25em;background-color: #f0f8ff;}#sk-container-id-1 input.sk-toggleable__control:checked~div.sk-toggleable__content {max-height: 200px;max-width: 100%;overflow: auto;}#sk-container-id-1 input.sk-toggleable__control:checked~label.sk-toggleable__label-arrow:before {content: \"▾\";}#sk-container-id-1 div.sk-estimator input.sk-toggleable__control:checked~label.sk-toggleable__label {background-color: #d4ebff;}#sk-container-id-1 div.sk-label input.sk-toggleable__control:checked~label.sk-toggleable__label {background-color: #d4ebff;}#sk-container-id-1 input.sk-hidden--visually {border: 0;clip: rect(1px 1px 1px 1px);clip: rect(1px, 1px, 1px, 1px);height: 1px;margin: -1px;overflow: hidden;padding: 0;position: absolute;width: 1px;}#sk-container-id-1 div.sk-estimator {font-family: monospace;background-color: #f0f8ff;border: 1px dotted black;border-radius: 0.25em;box-sizing: border-box;margin-bottom: 0.5em;}#sk-container-id-1 div.sk-estimator:hover {background-color: #d4ebff;}#sk-container-id-1 div.sk-parallel-item::after {content: \"\";width: 100%;border-bottom: 1px solid gray;flex-grow: 1;}#sk-container-id-1 div.sk-label:hover label.sk-toggleable__label {background-color: #d4ebff;}#sk-container-id-1 div.sk-serial::before {content: \"\";position: absolute;border-left: 1px solid gray;box-sizing: border-box;top: 0;bottom: 0;left: 50%;z-index: 0;}#sk-container-id-1 div.sk-serial {display: flex;flex-direction: column;align-items: center;background-color: white;padding-right: 0.2em;padding-left: 0.2em;position: relative;}#sk-container-id-1 div.sk-item {position: relative;z-index: 1;}#sk-container-id-1 div.sk-parallel {display: flex;align-items: stretch;justify-content: center;background-color: white;position: relative;}#sk-container-id-1 div.sk-item::before, #sk-container-id-1 div.sk-parallel-item::before {content: \"\";position: absolute;border-left: 1px solid gray;box-sizing: border-box;top: 0;bottom: 0;left: 50%;z-index: -1;}#sk-container-id-1 div.sk-parallel-item {display: flex;flex-direction: column;z-index: 1;position: relative;background-color: white;}#sk-container-id-1 div.sk-parallel-item:first-child::after {align-self: flex-end;width: 50%;}#sk-container-id-1 div.sk-parallel-item:last-child::after {align-self: flex-start;width: 50%;}#sk-container-id-1 div.sk-parallel-item:only-child::after {width: 0;}#sk-container-id-1 div.sk-dashed-wrapped {border: 1px dashed gray;margin: 0 0.4em 0.5em 0.4em;box-sizing: border-box;padding-bottom: 0.4em;background-color: white;}#sk-container-id-1 div.sk-label label {font-family: monospace;font-weight: bold;display: inline-block;line-height: 1.2em;}#sk-container-id-1 div.sk-label-container {text-align: center;}#sk-container-id-1 div.sk-container {/* jupyter's `normalize.less` sets `[hidden] { display: none; }` but bootstrap.min.css set `[hidden] { display: none !important; }` so we also need the `!important` here to be able to override the default hidden behavior on the sphinx rendered scikit-learn.org. See: https://github.com/scikit-learn/scikit-learn/issues/21755 */display: inline-block !important;position: relative;}#sk-container-id-1 div.sk-text-repr-fallback {display: none;}</style><div id=\"sk-container-id-1\" class=\"sk-top-container\"><div class=\"sk-text-repr-fallback\"><pre>GridSearchCV(cv=5,\n",
       "             estimator=LogisticRegression(n_jobs=-1, penalty=&#x27;elasticnet&#x27;,\n",
       "                                          solver=&#x27;saga&#x27;),\n",
       "             n_jobs=-1,\n",
       "             param_grid={&#x27;l1_ratio&#x27;: [0.0, 0.05, 0.1, 0.15, 0.2, 0.25, 0.3,\n",
       "                                      0.35, 0.4, 0.45, 0.5, 0.55, 0.6, 0.65,\n",
       "                                      0.7, 0.75, 0.8, 0.85, 0.9, 0.95, 1.0]},\n",
       "             scoring=&#x27;f1_macro&#x27;, verbose=1)</pre><b>In a Jupyter environment, please rerun this cell to show the HTML representation or trust the notebook. <br />On GitHub, the HTML representation is unable to render, please try loading this page with nbviewer.org.</b></div><div class=\"sk-container\" hidden><div class=\"sk-item sk-dashed-wrapped\"><div class=\"sk-label-container\"><div class=\"sk-label sk-toggleable\"><input class=\"sk-toggleable__control sk-hidden--visually\" id=\"sk-estimator-id-1\" type=\"checkbox\" ><label for=\"sk-estimator-id-1\" class=\"sk-toggleable__label sk-toggleable__label-arrow\">GridSearchCV</label><div class=\"sk-toggleable__content\"><pre>GridSearchCV(cv=5,\n",
       "             estimator=LogisticRegression(n_jobs=-1, penalty=&#x27;elasticnet&#x27;,\n",
       "                                          solver=&#x27;saga&#x27;),\n",
       "             n_jobs=-1,\n",
       "             param_grid={&#x27;l1_ratio&#x27;: [0.0, 0.05, 0.1, 0.15, 0.2, 0.25, 0.3,\n",
       "                                      0.35, 0.4, 0.45, 0.5, 0.55, 0.6, 0.65,\n",
       "                                      0.7, 0.75, 0.8, 0.85, 0.9, 0.95, 1.0]},\n",
       "             scoring=&#x27;f1_macro&#x27;, verbose=1)</pre></div></div></div><div class=\"sk-parallel\"><div class=\"sk-parallel-item\"><div class=\"sk-item\"><div class=\"sk-label-container\"><div class=\"sk-label sk-toggleable\"><input class=\"sk-toggleable__control sk-hidden--visually\" id=\"sk-estimator-id-2\" type=\"checkbox\" ><label for=\"sk-estimator-id-2\" class=\"sk-toggleable__label sk-toggleable__label-arrow\">estimator: LogisticRegression</label><div class=\"sk-toggleable__content\"><pre>LogisticRegression(n_jobs=-1, penalty=&#x27;elasticnet&#x27;, solver=&#x27;saga&#x27;)</pre></div></div></div><div class=\"sk-serial\"><div class=\"sk-item\"><div class=\"sk-estimator sk-toggleable\"><input class=\"sk-toggleable__control sk-hidden--visually\" id=\"sk-estimator-id-3\" type=\"checkbox\" ><label for=\"sk-estimator-id-3\" class=\"sk-toggleable__label sk-toggleable__label-arrow\">LogisticRegression</label><div class=\"sk-toggleable__content\"><pre>LogisticRegression(n_jobs=-1, penalty=&#x27;elasticnet&#x27;, solver=&#x27;saga&#x27;)</pre></div></div></div></div></div></div></div></div></div></div>"
      ],
      "text/plain": [
       "GridSearchCV(cv=5,\n",
       "             estimator=LogisticRegression(n_jobs=-1, penalty='elasticnet',\n",
       "                                          solver='saga'),\n",
       "             n_jobs=-1,\n",
       "             param_grid={'l1_ratio': [0.0, 0.05, 0.1, 0.15, 0.2, 0.25, 0.3,\n",
       "                                      0.35, 0.4, 0.45, 0.5, 0.55, 0.6, 0.65,\n",
       "                                      0.7, 0.75, 0.8, 0.85, 0.9, 0.95, 1.0]},\n",
       "             scoring='f1_macro', verbose=1)"
      ]
     },
     "execution_count": 10,
     "metadata": {},
     "output_type": "execute_result"
    }
   ],
   "source": [
    "# Apply grid search to tune hyperparameters.\n",
    "l1_ratio_list = [(l1_ratio / 20) for l1_ratio in list(range(0, 21))]\n",
    "parameters_logit = {\"l1_ratio\" : l1_ratio_list}\n",
    "logit_final = GridSearchCV(\n",
    "    LogisticRegression(penalty=\"elasticnet\", solver=\"saga\", n_jobs=-1),\n",
    "    parameters_logit,\n",
    "    scoring=\"f1_macro\",\n",
    "    cv=5,\n",
    "    verbose=1,\n",
    "    n_jobs=-1\n",
    ")\n",
    "logit_final.fit(df_train_pcs, y_train)"
   ]
  },
  {
   "cell_type": "code",
   "execution_count": 11,
   "id": "bbe68c84-7079-47b1-b77b-f7e43cf7c7b3",
   "metadata": {},
   "outputs": [
    {
     "data": {
      "text/html": [
       "<div>\n",
       "<style scoped>\n",
       "    .dataframe tbody tr th:only-of-type {\n",
       "        vertical-align: middle;\n",
       "    }\n",
       "\n",
       "    .dataframe tbody tr th {\n",
       "        vertical-align: top;\n",
       "    }\n",
       "\n",
       "    .dataframe thead th {\n",
       "        text-align: right;\n",
       "    }\n",
       "</style>\n",
       "<table border=\"1\" class=\"dataframe\">\n",
       "  <thead>\n",
       "    <tr style=\"text-align: right;\">\n",
       "      <th></th>\n",
       "      <th>Params</th>\n",
       "      <th>Mean out-of-bag F1</th>\n",
       "    </tr>\n",
       "  </thead>\n",
       "  <tbody>\n",
       "    <tr>\n",
       "      <th>0</th>\n",
       "      <td>{'l1_ratio': 0.0}</td>\n",
       "      <td>0.728663</td>\n",
       "    </tr>\n",
       "    <tr>\n",
       "      <th>1</th>\n",
       "      <td>{'l1_ratio': 0.05}</td>\n",
       "      <td>0.731235</td>\n",
       "    </tr>\n",
       "    <tr>\n",
       "      <th>2</th>\n",
       "      <td>{'l1_ratio': 0.1}</td>\n",
       "      <td>0.729084</td>\n",
       "    </tr>\n",
       "    <tr>\n",
       "      <th>3</th>\n",
       "      <td>{'l1_ratio': 0.15}</td>\n",
       "      <td>0.728397</td>\n",
       "    </tr>\n",
       "    <tr>\n",
       "      <th>4</th>\n",
       "      <td>{'l1_ratio': 0.2}</td>\n",
       "      <td>0.728264</td>\n",
       "    </tr>\n",
       "  </tbody>\n",
       "</table>\n",
       "</div>"
      ],
      "text/plain": [
       "               Params  Mean out-of-bag F1\n",
       "0   {'l1_ratio': 0.0}            0.728663\n",
       "1  {'l1_ratio': 0.05}            0.731235\n",
       "2   {'l1_ratio': 0.1}            0.729084\n",
       "3  {'l1_ratio': 0.15}            0.728397\n",
       "4   {'l1_ratio': 0.2}            0.728264"
      ]
     },
     "metadata": {},
     "output_type": "display_data"
    },
    {
     "data": {
      "text/html": [
       "<div>\n",
       "<style scoped>\n",
       "    .dataframe tbody tr th:only-of-type {\n",
       "        vertical-align: middle;\n",
       "    }\n",
       "\n",
       "    .dataframe tbody tr th {\n",
       "        vertical-align: top;\n",
       "    }\n",
       "\n",
       "    .dataframe thead th {\n",
       "        text-align: right;\n",
       "    }\n",
       "</style>\n",
       "<table border=\"1\" class=\"dataframe\">\n",
       "  <thead>\n",
       "    <tr style=\"text-align: right;\">\n",
       "      <th></th>\n",
       "      <th>Params</th>\n",
       "      <th>Mean out-of-bag F1</th>\n",
       "    </tr>\n",
       "  </thead>\n",
       "  <tbody>\n",
       "    <tr>\n",
       "      <th>16</th>\n",
       "      <td>{'l1_ratio': 0.8}</td>\n",
       "      <td>0.722741</td>\n",
       "    </tr>\n",
       "    <tr>\n",
       "      <th>17</th>\n",
       "      <td>{'l1_ratio': 0.85}</td>\n",
       "      <td>0.722063</td>\n",
       "    </tr>\n",
       "    <tr>\n",
       "      <th>18</th>\n",
       "      <td>{'l1_ratio': 0.9}</td>\n",
       "      <td>0.721650</td>\n",
       "    </tr>\n",
       "    <tr>\n",
       "      <th>19</th>\n",
       "      <td>{'l1_ratio': 0.95}</td>\n",
       "      <td>0.720970</td>\n",
       "    </tr>\n",
       "    <tr>\n",
       "      <th>20</th>\n",
       "      <td>{'l1_ratio': 1.0}</td>\n",
       "      <td>0.718685</td>\n",
       "    </tr>\n",
       "  </tbody>\n",
       "</table>\n",
       "</div>"
      ],
      "text/plain": [
       "                Params  Mean out-of-bag F1\n",
       "16   {'l1_ratio': 0.8}            0.722741\n",
       "17  {'l1_ratio': 0.85}            0.722063\n",
       "18   {'l1_ratio': 0.9}            0.721650\n",
       "19  {'l1_ratio': 0.95}            0.720970\n",
       "20   {'l1_ratio': 1.0}            0.718685"
      ]
     },
     "metadata": {},
     "output_type": "display_data"
    },
    {
     "name": "stderr",
     "output_type": "stream",
     "text": [
      "2023-05-07 22:03:10,246:INFO:utils:Best parameters: {'l1_ratio': 0.05}. Best mean out-of-bag F1: 0.731235251816927\n"
     ]
    }
   ],
   "source": [
    "# Get and display best results.\n",
    "best_parameters_gs = gs_display_save_results(\n",
    "    gscv_fit=logit_final, \n",
    "    file_prefix=\"logreg_pca\", \n",
    "    save=True\n",
    ")\n",
    "best_model = logit_final.best_estimator_"
   ]
  },
  {
   "cell_type": "code",
   "execution_count": 12,
   "id": "b9091437-9faa-4782-8eeb-90942cc9eb02",
   "metadata": {},
   "outputs": [
    {
     "name": "stderr",
     "output_type": "stream",
     "text": [
      "2023-05-07 22:03:19,414:INFO:utils:--------------------COMPUTING TEST SET PERFORMANCE METRICS--------------------\n",
      "\n",
      "2023-05-07 22:03:19,417:INFO:utils:Accuracy: 0.7129779213785676\n",
      "2023-05-07 22:03:19,419:INFO:utils:ROC AUC: 0.7903447699870778\n",
      "2023-05-07 22:03:19,420:INFO:utils:Confusion matrix:\n",
      "[[655 279]\n",
      " [254 669]]\n",
      "2023-05-07 22:03:19,426:INFO:utils:\n",
      "              precision    recall  f1-score   support\n",
      "\n",
      "           0       0.72      0.70      0.71       934\n",
      "           1       0.71      0.72      0.72       923\n",
      "\n",
      "    accuracy                           0.71      1857\n",
      "   macro avg       0.71      0.71      0.71      1857\n",
      "weighted avg       0.71      0.71      0.71      1857\n",
      "\n",
      "2023-05-07 22:03:19,427:INFO:utils:--------------------COMPUTING CROSS-VALIDATED PERFORMANCE METRICS--------------------\n",
      "\n",
      "2023-05-07 22:03:22,232:INFO:utils:Cross-validated precision: 0.7239653745071051\n",
      "2023-05-07 22:03:24,742:INFO:utils:Cross-validated recall: 0.7404271871865966\n",
      "2023-05-07 22:03:27,435:INFO:utils:Cross-validated f1_macro: 0.731235251816927\n",
      "2023-05-07 22:03:30,435:INFO:utils:Cross-validated roc_auc: 0.8046592773315279\n"
     ]
    }
   ],
   "source": [
    "get_model_performance_metrics(\n",
    "    clf=best_model,\n",
    "    x_train=df_train_pcs,\n",
    "    y_train=y_train,\n",
    "    x_test=df_test_pcs,\n",
    "    y_test=y_test\n",
    ")"
   ]
  }
 ],
 "metadata": {
  "kernelspec": {
   "display_name": "Python [conda env:twitter_sentiment_analysis]",
   "language": "python",
   "name": "conda-env-twitter_sentiment_analysis-py"
  },
  "language_info": {
   "codemirror_mode": {
    "name": "ipython",
    "version": 3
   },
   "file_extension": ".py",
   "mimetype": "text/x-python",
   "name": "python",
   "nbconvert_exporter": "python",
   "pygments_lexer": "ipython3",
   "version": "3.9.13"
  }
 },
 "nbformat": 4,
 "nbformat_minor": 5
}
